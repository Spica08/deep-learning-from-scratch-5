{
  "nbformat": 4,
  "nbformat_minor": 0,
  "metadata": {
    "colab": {
      "provenance": [],
      "authorship_tag": "ABX9TyOZ5lYBlfWCBxKvz5D+Wwir",
      "include_colab_link": true
    },
    "kernelspec": {
      "name": "python3",
      "display_name": "Python 3"
    },
    "language_info": {
      "name": "python"
    }
  },
  "cells": [
    {
      "cell_type": "markdown",
      "metadata": {
        "id": "view-in-github",
        "colab_type": "text"
      },
      "source": [
        "<a href=\"https://colab.research.google.com/github/Spica08/deep-learning-from-scratch-5/blob/main/step7.ipynb\" target=\"_parent\"><img src=\"https://colab.research.google.com/assets/colab-badge.svg\" alt=\"Open In Colab\"/></a>"
      ]
    },
    {
      "cell_type": "code",
      "source": [
        "# set up\n",
        "import os\n",
        "import numpy as np\n",
        "from scipy.stats import norm\n",
        "import matplotlib.pyplot as plt\n",
        "\n",
        "!pip install torchviz\n",
        "import torch\n",
        "import torch.nn as nn\n",
        "import torch.nn.functional as F\n",
        "import torch.optim as optim\n",
        "import torchvision\n",
        "import torchviz\n",
        "from torchvision import datasets, transforms\n",
        "\n",
        "from IPython.display import display"
      ],
      "metadata": {
        "colab": {
          "base_uri": "https://localhost:8080/"
        },
        "id": "t4mwDNlMe6ma",
        "outputId": "43cc6c65-2167-4573-b183-26731b50a040"
      },
      "execution_count": 9,
      "outputs": [
        {
          "output_type": "stream",
          "name": "stdout",
          "text": [
            "Requirement already satisfied: torchviz in /usr/local/lib/python3.11/dist-packages (0.0.3)\n",
            "Requirement already satisfied: torch in /usr/local/lib/python3.11/dist-packages (from torchviz) (2.6.0+cu124)\n",
            "Requirement already satisfied: graphviz in /usr/local/lib/python3.11/dist-packages (from torchviz) (0.21)\n",
            "Requirement already satisfied: filelock in /usr/local/lib/python3.11/dist-packages (from torch->torchviz) (3.18.0)\n",
            "Requirement already satisfied: typing-extensions>=4.10.0 in /usr/local/lib/python3.11/dist-packages (from torch->torchviz) (4.14.1)\n",
            "Requirement already satisfied: networkx in /usr/local/lib/python3.11/dist-packages (from torch->torchviz) (3.5)\n",
            "Requirement already satisfied: jinja2 in /usr/local/lib/python3.11/dist-packages (from torch->torchviz) (3.1.6)\n",
            "Requirement already satisfied: fsspec in /usr/local/lib/python3.11/dist-packages (from torch->torchviz) (2025.3.2)\n",
            "Requirement already satisfied: nvidia-cuda-nvrtc-cu12==12.4.127 in /usr/local/lib/python3.11/dist-packages (from torch->torchviz) (12.4.127)\n",
            "Requirement already satisfied: nvidia-cuda-runtime-cu12==12.4.127 in /usr/local/lib/python3.11/dist-packages (from torch->torchviz) (12.4.127)\n",
            "Requirement already satisfied: nvidia-cuda-cupti-cu12==12.4.127 in /usr/local/lib/python3.11/dist-packages (from torch->torchviz) (12.4.127)\n",
            "Requirement already satisfied: nvidia-cudnn-cu12==9.1.0.70 in /usr/local/lib/python3.11/dist-packages (from torch->torchviz) (9.1.0.70)\n",
            "Requirement already satisfied: nvidia-cublas-cu12==12.4.5.8 in /usr/local/lib/python3.11/dist-packages (from torch->torchviz) (12.4.5.8)\n",
            "Requirement already satisfied: nvidia-cufft-cu12==11.2.1.3 in /usr/local/lib/python3.11/dist-packages (from torch->torchviz) (11.2.1.3)\n",
            "Requirement already satisfied: nvidia-curand-cu12==10.3.5.147 in /usr/local/lib/python3.11/dist-packages (from torch->torchviz) (10.3.5.147)\n",
            "Requirement already satisfied: nvidia-cusolver-cu12==11.6.1.9 in /usr/local/lib/python3.11/dist-packages (from torch->torchviz) (11.6.1.9)\n",
            "Requirement already satisfied: nvidia-cusparse-cu12==12.3.1.170 in /usr/local/lib/python3.11/dist-packages (from torch->torchviz) (12.3.1.170)\n",
            "Requirement already satisfied: nvidia-cusparselt-cu12==0.6.2 in /usr/local/lib/python3.11/dist-packages (from torch->torchviz) (0.6.2)\n",
            "Requirement already satisfied: nvidia-nccl-cu12==2.21.5 in /usr/local/lib/python3.11/dist-packages (from torch->torchviz) (2.21.5)\n",
            "Requirement already satisfied: nvidia-nvtx-cu12==12.4.127 in /usr/local/lib/python3.11/dist-packages (from torch->torchviz) (12.4.127)\n",
            "Requirement already satisfied: nvidia-nvjitlink-cu12==12.4.127 in /usr/local/lib/python3.11/dist-packages (from torch->torchviz) (12.4.127)\n",
            "Requirement already satisfied: triton==3.2.0 in /usr/local/lib/python3.11/dist-packages (from torch->torchviz) (3.2.0)\n",
            "Requirement already satisfied: sympy==1.13.1 in /usr/local/lib/python3.11/dist-packages (from torch->torchviz) (1.13.1)\n",
            "Requirement already satisfied: mpmath<1.4,>=1.1.0 in /usr/local/lib/python3.11/dist-packages (from sympy==1.13.1->torch->torchviz) (1.3.0)\n",
            "Requirement already satisfied: MarkupSafe>=2.0 in /usr/local/lib/python3.11/dist-packages (from jinja2->torch->torchviz) (3.0.2)\n"
          ]
        }
      ]
    },
    {
      "cell_type": "markdown",
      "source": [
        "# step7 変分オートエンコーダ(VAE)"
      ],
      "metadata": {
        "id": "yIHJLtVteyaq"
      }
    },
    {
      "cell_type": "markdown",
      "source": [
        "## 7.1 VAEとデコーダ"
      ],
      "metadata": {
        "id": "ZO4PcZV_hzWg"
      }
    },
    {
      "cell_type": "markdown",
      "source": [
        "### 7.1.1 1つの正規分布\n",
        "ここでは正規分布のパラメータを$\\theta = \\lbrace \\mu, \\sum\\rbrace$で表す。データxの分布を1つの正規分布でモデル化する場合の確率分布は以下のようになる。\n",
        "\\begin{equation}\n",
        "p_\\theta(x) = \\mathcal{N}(x;\\theta)\n",
        "\\end{equation}\n",
        "モデルのパラメータ推定では、N個の観測データ$D = \\lbrace x^{(1)}, x^{(2)}, \\dots, x^{(N)}\\rbrace$から、以下の対数尤度が最大となるパラメータを求める。\n",
        "\\begin{equation}\n",
        "log p_\\theta(D) = log(p_\\theta(x^{(1)})p_\\theta(x^{(2)}) \\dots p_\\theta(x^{(N)}))\n",
        "\\end{equation}"
      ],
      "metadata": {
        "id": "yAxmIUyQh5lk"
      }
    },
    {
      "cell_type": "markdown",
      "source": [
        "### 7.1.2 混合ガウスモデル\n",
        "GMMでは以下の2つの作業でデータを生成する。  \n",
        "1. K個の正規分布の中から、カテゴリカル分布に従って1つを選ぶ  \n",
        "2. 選んだ正規分布からデータを生成する  \n",
        "GMMでは、対数尤度の最大化問題を解析的に解くことができないため、以下のELBOを目的関数とすることでパラメータを探索する。\n",
        "\\begin{align}\n",
        "logp_\\theta(D) &\\ge \\sum_{n = 1}^N \\sum_{z(n)} q^{(n)}(z^{(n)}) log \\frac{p_\\theta(x^{(n)}, z^{(n)})}{q^{(n)}(z^{(n)})}\n",
        "\\end{align}\n",
        "\n",
        "具体的には、EステップとMステップを以下のように繰り返すことで行う。  \n",
        "\n",
        "Eステップ : $\\theta$を固定し$\\lbrace q^{(1)}, q^{(2)}, \\dots, q^{(N)}\\rbrace$を更新する。各nに対して$q^{(n)}(z) = p_\\theta(z | x^{(n)})$と更新する  \n",
        "Mステップ : q(z)を固定してパラメータ$\\theta$を解析的に求める。"
      ],
      "metadata": {
        "id": "p-eEuml7i1Z1"
      }
    },
    {
      "cell_type": "markdown",
      "source": [
        "### 7.1.3 VAE\n",
        "VAEはGMM同様に潜在変数を持つモデルで、以下の2つの作業でデータを生成する。  \n",
        "1. 潜在変数zを固定の正規分布から生成する  \n",
        "2. ニューラルネットワークによって潜在変数zから観測変数xへと変換する。  \n",
        "\n",
        "ここで、潜在変数zはH次元のベクトルで表すこととする。  \n",
        "$z = \\begin{pmatrix}\n",
        "   z_1 \\\\ z_2 \\\\ \\vdots \\\\ z_D\n",
        "\\end{pmatrix}$  \n",
        "また、VAEではzは平均0、共分散行列Iの正規分布から生成されると仮定する。このとき、「zは$\\mathcal{N}(z;0,I)$に従う」といい、\n",
        "\\begin{equation}\n",
        "p(z) = \\mathcal{N}(z;0,I)\n",
        "\\end{equation}\n",
        "と表す。GMMではzの分布が離散値だったのに対し、VAEでは連続値をサンプリングするためより多様化かつ広範な表現が可能になる。  \n",
        "\n",
        "モデル化の目標は、観測変数xの確率分布p(x)を得ることである。そのため、zからxへの変換を行うニューラルネットワークは、確率分布としてP(x|z)をモデル化する必要がある一方、出力はベクトルに制限される。そこで、このギャップを埋めるために、「ニューラルネットワークの出力を平均ベクトルとする正規分布」を考える。数式では以下のように表す。\n",
        "\\begin{align}\n",
        "\\hat{x} &= NeuralNet(z;\\theta)\\\\\n",
        "p_\\theta(x|z) &= \\mathcal{N}(x;\\hat{x},I)\n",
        "\\end{align}\n",
        "以上がVAEのデコーダ部分の数式による表現となる。"
      ],
      "metadata": {
        "id": "KGKG-Ycbkp0i"
      }
    },
    {
      "cell_type": "markdown",
      "source": [
        "### 7.1.4 EMアルゴリズムの問題点\n",
        "VAEは理論上GMMと同様にEMアルゴリズムにより学習が可能なはずである。しかし、実際には計算量の制約により実現が困難となっている。  \n",
        "\n",
        "EMアルゴリズムのEステップでは、パラメータを固定して$q^{(n)}(z) = p_\\theta(z | x^{(n)})$という計算を行う必要がある。これをVAEで行おうとすると、\n",
        "\\begin{align}\n",
        "p_\\theta(z | x^{(n)}) &= \\frac{p_\\theta(x^{(n)}, z)}{p_\\theta(x^{(n)})}\\\\\n",
        "                      &= \\frac{p_\\theta(x^{(n)}, z)}{\\int p_\\theta(x^{(n)}, z)dz}\n",
        "\\end{align}\n",
        "となる。分母の積分計算について、GMMの場合ではzが離散値だったために容易に計算可能だったが、離散値であるVAEの場合は多次元ベクトルzの取りうる値全てを考慮することは実質不可能であり計算できない。VAEではこの問題を解決する必要がある。"
      ],
      "metadata": {
        "id": "lse9znmqnsyC"
      }
    },
    {
      "cell_type": "markdown",
      "source": [
        "## 7.2 VAEとエンコーダ"
      ],
      "metadata": {
        "id": "dumwJmOhpX0m"
      }
    },
    {
      "cell_type": "markdown",
      "source": [
        "### 7.2.1 EMアルゴリズムからVAEへ\n",
        "EMアルゴリズムでは、任意の確率分布q(z)を用いて次のような式展開をした。\n",
        "\\begin{align}\n",
        "logp_\\theta(x) &= \\left(\\int q(z)dz \\right) logp_\\theta(x)\\\\\n",
        "                &= \\int q(z)logp_\\theta(x)dz\\\\\n",
        "                &= \\int q(z)log \\frac{p_\\theta(x, z)}{p_\\theta(z | x)}dz\\\\\n",
        "                &= \\int q(z)log \\frac{p_\\theta(x, z)}{p_\\theta(z | x)} \\frac{q(z)}{q(z)}dz\\\\\n",
        "                &= \\int q(z)log\\frac{p_\\theta(x, z)}{q(z)}dz + \\int q(z)log\\frac{q(z)}{p_\\theta(z | x)}dz\\\\\n",
        "                &= \\int q(z)log\\frac{p_\\theta(x, z)}{q(z)}dz + D_{KL}(q(z) || p_\\theta(z | x)\\\\\n",
        "                &\\ge \\int q(z)log\\frac{p_\\theta(x, z)}{q(z)}dz \\qquad (ELBO)\n",
        "\\end{align}\n",
        "この式より、$ELBO(x;q,\\theta)$を大きくするようにパラメータを更新すれば、元々の対数尤度$log p_\\theta(x)$はそれ以上の値となる。よって手に負えない対数尤度の代わりにELBOを最適化の対象としていた。  \n",
        "\n",
        "さらに、EMアルゴリズムでは、Eステップにおけるzの事後分布q(z)の更新として$q(z) = p_\\theta(z | x)$を計算していた。しかしzが連続値であるVAEではこの更新のための計算も困難である(条件付き確率の分母にzの積分が登場する)。そこで、VAEでは次のアプローチを取る。  \n",
        "1. q(z)を簡単な確率分布(正規分布)に限定する\n",
        "2. その限定された確率分布の中でELBOの最適化を行う  \n",
        "\n",
        "VAEの潜在変数zは実数のベクトルである。そこでその確率分布をq(z)に限定することにする。q(z)は平均ベクトル$\\mu$と今日分散行列$\\sum$という2つのパラメータを持つことになり、それを$\\psi = \\lbrace \\mu, \\sum\\rbrace$として、\n",
        "\\begin{equation}\n",
        "q_\\psi(z) = \\mathcal{N}(x;\\mu, \\sum)\n",
        "\\end{equation}\n",
        "とする。  \n",
        "\n",
        "このとき、先ほど示した対数尤度は以下のように表される。\n",
        "\\begin{align}\n",
        "logp_\\theta(x) &= \\int q_\\psi(z)log\\frac{p_\\theta(x, z)}{q_\\psi(z)}dz + D_{KL}(q_\\psi(z) || p_\\theta(z | x)\n",
        "\\end{align}\n",
        "このうちELBO項である\n",
        "\\begin{align}\n",
        "ELBO(x;\\theta, \\psi) &= \\int q_\\psi(z)log\\frac{p_\\theta(x, z)}{q_\\psi(z)}dz\n",
        "\\end{align}\n",
        "を$\\theta$と$\\psi$について最大化することが目的となる。ここで重要な点は、ELBOを$\\psi$に関して最大化すると、$q_\\psi(z)$は$p_\\theta(z | x)$に最も近づくという点である。GMMでは、q(z)を直接$p_\\theta(z|x)$で更新することで両者は全く同じ分布とすることができた(KLダイバージェンス = 0)が、VAEではそれは困難なため$\\psi$の最適化を通して両者をなるべく近づけることを行う。"
      ],
      "metadata": {
        "id": "u4JSIlivIwjh"
      }
    },
    {
      "cell_type": "markdown",
      "source": [
        "### 7.2.2 データセット全体への適用\n",
        "1つのデータから複数データ$\\lbrace x^{(1)}, x^{(2)}, \\dots, x^{(N)}\\rbrace$へと拡張する。目的関数(ELBO)は以下の通り。GMM同様に潜在変数zの事後分布はデータごとに仮定して$\\lbrace q_\\psi^{(1)}, q_\\psi^{(2)}, \\dots, q_\\psi^{(N)}\\rbrace$とする。\n",
        "\\begin{align}\n",
        "\\sum_{n = 1}^N ELBO(x^{(n)}; \\theta, \\psi^{(n)}) &= \\sum_{n = 1}^N \\int q_\\psi^{(n)}(z)log\\frac{p_\\theta(x^{(n)}, z)}{q_\\psi^{(n)}(z)}dz\n",
        "\\end{align}\n",
        "\n",
        "ここで1つ問題となるのが、各データごとに事後分布を仮定するために、データが巨大になればその分大量のパラメータを仮定しなければならないことである(GMMでも同じことが言えそうな気がするが、、、？)。この問題を解決するためにもニューラルネットワークが活躍する。  \n",
        "\n",
        "パラメータについて考えると、各データ$x^{(n)}$に対して正規分布のパラメータ$\\lbrace \\mu^{(n)}, \\sum^{(n)}\\rbrace$が存在することとなる。そこで、入力が$x^{(n)}$、出力が$\\lbrace \\mu^{(n)}, \\sum^{(n)}\\rbrace$とみなしてニューラルネットワークで代用することを考える。これにより1つのニューラルネットワークにより各データにふさわしい正規分布のパラメータを出力させることが可能になる。"
      ],
      "metadata": {
        "id": "rWQE0PKJPTXI"
      }
    },
    {
      "cell_type": "markdown",
      "source": [
        "この、入力が$x^{(n)}$、出力が$\\lbrace \\mu^{(n)}, \\sum^{(n)}\\rbrace$であるニューラルネットワークのパラメータを$\\phi$とおく。これは、観測変数xから潜在変数zの事後分布を計算するためのものであり、\n",
        "エンコーダと呼ばれる。適切に学習されたニューラルネットワークであれば、$x^{(n)}$にふさわしい$\\lbrace \\mu^{(n)}, \\sum^{(n)}\\rbrace$を出力することが可能である。これにより、データごとにq(z)の事後分布を設定する代わりに、1つのニューラルネットワークのパラメータ$\\phi$のみを考えることになる。このように、近似事後分布のパラメータを1つのニューラルネットワークで計算する手法を**償却理論(Amortized Inference)**と呼ぶ。"
      ],
      "metadata": {
        "id": "Fewo893mR26V"
      }
    },
    {
      "cell_type": "markdown",
      "source": [
        "潜在変数zが次元数Hのベクトルだとすると、エンコーダのニューラルネットワークの出力$\\mu$もH次元のベクトルになる。共分散行列$\\sum$はH * Hの行列になるが、計算コスト削減のため、非対角成分が全て0の対角共分散行列と仮定する。これにより、$\\sum$のH個の対角成分のみからなるベクトルを出力すれば十分となる。そこでエンコーダ用のニューラルネットワークは次の2つのベクトルを出力することとなる。  \n",
        "$\\mu = \\begin{pmatrix}\n",
        "   \\mu_1 \\\\ \\mu_2 \\\\ \\vdots \\\\ \\mu_D\n",
        "\\end{pmatrix}$  \n",
        "\n",
        "$\\sigma = \\begin{pmatrix}\n",
        "   \\sigma_1 \\\\ \\sigma_2 \\\\ \\vdots \\\\ \\sigma_D\n",
        "\\end{pmatrix}$  \n",
        "\n",
        "以上より、VAEのエンコーダで行う処理は以下のようになる。\n",
        "\\begin{align}\n",
        "\\mu, \\sigma &= NeuralNet(x;\\phi)\\\\\n",
        "q_\\phi(z | x) &= \\mathcal{N}(z;\\mu, \\sigma^2I)\n",
        "\\end{align}\n",
        "q(z)の事後分布に関して、GMMではデータごとに仮定したためn番目のデータが得られている時の事後分布として$q^{(n)}(z)$と表記していたが、VAEではデータセットに対して1つのニューラルネットワーク(1つのパラメータ)を考えてzの事後分布を計算するため$q_\\phi(z|x)$という表記になる。"
      ],
      "metadata": {
        "id": "QoIchgruVE18"
      }
    },
    {
      "cell_type": "markdown",
      "source": [
        "## 7.3 ELBOの最適化\n",
        "デコーダ\n",
        "\\begin{align}\n",
        "p(z) &= \\mathcal{N}(z;0,I)\\\\\n",
        "\\hat{x} &= NeuralNet(z;\\theta)\\\\\n",
        "p_\\theta(x|z) &= \\mathcal{N}(x;\\hat{x},I)\n",
        "\\end{align}\n",
        "エンコーダ\n",
        "\\begin{align}\n",
        "\\mu, \\sigma &= NeuralNet(x;\\phi)\\\\\n",
        "q_\\phi(z | x) &= \\mathcal{N}(z;\\mu, \\sigma^2I)\n",
        "\\end{align}\n",
        "\n",
        "エンコーダは、データxが与えられた時のzの事後分布$q_\\phi(z | x)$をモデル化し、デコーダはサンプリングされた潜在変数zが与えられた時のxの確率分布$p_\\theta(x | z)$をモデル化する。  \n",
        "\n",
        "\n",
        "ここでの目標はこの2つのニューラルネットワークを用いたモデルにおいて、対数尤度を最大化するパラメータ$\\theta$、$\\phi$を見つけることである。対数尤度そのものは最適化できないので、代わりにELBOの最大化を考える。\n",
        "\\begin{align}\n",
        "\\sum_{n = 1}^N ELBO(x^{(n)}; \\theta, \\phi) &= \\sum_{n = 1}^N \\int q_\\phi(z | x^{(n)})log\\frac{p_\\theta(x^{(n)}, z)}{q_\\phi(z | x^{(n)})}dz\n",
        "\\end{align}"
      ],
      "metadata": {
        "id": "uW60r8deXgy7"
      }
    },
    {
      "cell_type": "markdown",
      "source": [
        "### 7.3.1 ELBOの評価\n",
        "1つのデータxに対応するELBOについて考えると以下のように展開できる。\n",
        "\\begin{align}\n",
        "ELBO(x;\\theta, \\phi) &= \\int q_\\phi(z | x)log\\frac{p_\\theta(x, z)}{q_\\phi(z | x)}dz\\\\\n",
        "                     &= \\int q_\\phi(z | x)log\\frac{p_\\theta(x | z)p(z)}{q_\\phi(z | x)}dz \\qquad \\because z は\\thetaに依存しない\\\\\n",
        "                     &= \\int q_\\phi(z | x)logp_\\theta(x | z)dz + \\int q_\\phi(z | x)log\\frac{p(z)}{q_\\phi(z | x)}dz\\\\\n",
        "                     &= \\int q_\\phi(z | x)logp_\\theta(x | z)dz - \\int q_\\phi(z | x)log\\frac{q_\\phi(z | x)}{p(z)}dz\\\\\n",
        "                     &= \\mathbb{E}_{q_\\theta(z | x)}[logp_\\theta(x | z)] - D_{KL}(q_\\phi(z | x) || p(z))\n",
        "\\end{align}\n",
        "以下のように$J_1, J_2$を定め以下の式変形を行う。\n",
        "\\begin{align}\n",
        "J_1 &= \\mathbb{E}_{q_\\theta(z | x)}[logp_\\theta(x | z)] \\\\\n",
        "J_2 &= D_{KL}(q_\\phi(z | x) || p(z))\n",
        "\\end{align}"
      ],
      "metadata": {
        "id": "h184BEhzcZEF"
      }
    },
    {
      "cell_type": "markdown",
      "source": [
        "$J_1$は期待値なのでモンテカルロ法によって近似できる。VAEではサンプルサイズが1でも上手くいくケースが多い。サンプルサイズを1とすると、$z \\backsim q_\\theta(z | x)$によってzを1つサンプリングし、その時の$logp_\\theta(x | z)$を計算すれば良い。\n",
        "\\begin{align}\n",
        "\\mu, \\sigma &= NeuralNet(x;\\phi)\\\\\n",
        "z &\\backsim \\mathcal{N}(z;\\mu, \\sigma^2I)\\\\\n",
        "\\hat{x} &= NeuralNet(z;\\theta)\\\\\n",
        "J_1 &\\approx log\\mathcal{N}(x;\\hat{x}, I)\\\\\n",
        "    &= log \\left(\\frac{1}{\\sqrt{(2\\pi)^D}|I|}exp\\left(-\\frac{1}{2}(x - \\hat{x})^TI^{-1}(x - \\hat{x}) \\right)\\right)\\\\\n",
        "    &= -\\frac{1}{2}(x - \\hat{x})^T(x - \\hat{x}) + const\\\\\n",
        "    &= -\\frac{1}{2} \\sum_{d = 1}^D(x_d - \\hat{x}_d)^2 + const\n",
        "\\end{align}\n",
        "よってこの項は元のデータxと、encoder, decoderにより再構成されたデータ$\\hat{x}$の2乗誤差が小さいほど大きくなる。そのため「再構成誤差項」と呼ばれる。"
      ],
      "metadata": {
        "id": "vs1NhvLgNlsB"
      }
    },
    {
      "cell_type": "markdown",
      "source": [
        "$J_2$はKLダイバージェンスである。係数が負であるこの項はできるだけ0に近づく事が望ましい。2つの正規分布に関するKLダイバージェンスより、\n",
        "\\begin{align}\n",
        "J_2 &= D_{KL}(q_\\phi(z | x) || p(z))\\\\\n",
        "     &= D_{KL}(\\mathcal{N}(z;\\mu, \\sigma^2I) || \\mathcal{N}(z;0, I))\\\\\n",
        "     &= -\\frac{1}{2}\\sum_{h = 1}^H(1 + log\\sigma_h^2 - \\mu_h^2 - \\sigma_h^2)\n",
        "\\end{align}\n",
        "この項は、データxが得られた時のzの事後分布があらかじめ設定したp(z)の事前分布に近づくほど小さくなる(ELBOは大きくなる)。したがって「整合性項」と呼ばれる。この時、$q_\\psi(z | x)$は、真の事後分布$p_\\theta(z | x)$とp(z)の両方に近づくように学習が進むことになる。"
      ],
      "metadata": {
        "id": "v2UOgzzciZnP"
      }
    },
    {
      "cell_type": "markdown",
      "source": [
        "以上よりELBOは以下のように計算できる。\n",
        "\\begin{equation}\n",
        "ELBO(x;\\theta, \\phi) \\approx -\\frac{1}{2} \\sum_{d = 1}^D(x_d - \\hat{x}_d)^2 + \\frac{1}{2}\\sum_{h = 1}^H(1 + log\\sigma_h^2 - \\mu_h^2 - \\sigma_h^2) + const\n",
        "\\end{equation}\n",
        "このELBOを最大化するNNのパラメータ$\\theta, \\phi$を学習することになる。"
      ],
      "metadata": {
        "id": "s7o5faU5kj1x"
      }
    },
    {
      "cell_type": "markdown",
      "source": [
        "### 7.3.2 変数変換トリック\n",
        "上記のモデルのままでは、潜在変数zをサンプリングする過程があるため、計算グラフが微分不可能隣誤差逆伝播法が使えない。そこで**変数変換トリック**を用いて解決する。  \n",
        "\n",
        "変数変換トリックでは、$z \\backsim \\mathcal{N}(z;\\mu, \\sigma^2I)$のサンプリングを以下のように計算する。\n",
        "\\begin{align}\n",
        "\\epsilon &\\backsim \\mathcal{N}(\\epsilon; 0,I)\\\\\n",
        "z &= \\mu + \\sigma \\odot \\epsilon\n",
        "\\end{align}\n",
        "実際にベクトルの要素を表示して確認すると、\n",
        "\\begin{align}\n",
        "z &= \\mu + \\sigma \\odot \\epsilon\\\\\n",
        "  &= \\begin{pmatrix}\\mu_1 \\\\ \\mu_2 \\\\ \\vdots \\\\ \\mu_H \\end{pmatrix} + \\begin{pmatrix}\\sigma_1 \\\\ \\sigma_2 \\\\ \\vdots \\\\ \\sigma_H \\end{pmatrix} \\odot \\begin{pmatrix}\\epsilon_1 \\\\ \\epsilon_2 \\\\ \\vdots \\\\ \\epsilon_H \\end{pmatrix}\\\\\n",
        "  &= \\begin{pmatrix}\\mu_1 + \\sigma_1\\epsilon_1 \\\\ \\mu_2 + \\sigma_2\\epsilon_2 \\\\ \\vdots \\\\ \\mu_H + \\sigma_H\\epsilon_H \\end{pmatrix}\n",
        "\\end{align}\n",
        "この計算によって得られるzは$z \\backsim \\mathcal{N}(z;\\mu, \\sigma^2I)$からサンプリングした値と同じ分布に従う。これによりサンプリングを計算グラフの外にする事が可能となり勾配を計算できるようになる。"
      ],
      "metadata": {
        "id": "JAtbDd4JlK2r"
      }
    },
    {
      "cell_type": "markdown",
      "source": [
        "## 7.4 VAEの実装"
      ],
      "metadata": {
        "id": "fkfaER2LZ6ll"
      }
    },
    {
      "cell_type": "markdown",
      "source": [
        "### 7.4.1 実装の方針\n",
        "\\begin{equation}\n",
        "ELBO(x;\\theta, \\phi) \\approx -\\frac{1}{2} \\sum_{d = 1}^D(x_d - \\hat{x}_d)^2 + \\frac{1}{2}\\sum_{h = 1}^H(1 + log\\sigma_h^2 - \\mu_h^2 - \\sigma_h^2) + const\n",
        "\\end{equation}\n",
        "上記のELBOに対して、以下のように損失関数を設定する。\n",
        "\\begin{equation}\n",
        "ELBO(x;\\theta, \\phi) \\approx \\sum_{d = 1}^D(x_d - \\hat{x}_d)^2 - \\sum_{h = 1}^H(1 + log\\sigma_h^2 - \\mu_h^2 - \\sigma_h^2)\n",
        "\\end{equation}"
      ],
      "metadata": {
        "id": "UKKU3BBLaCzi"
      }
    },
    {
      "cell_type": "markdown",
      "source": [
        "### 7.4.2 VAEのコード"
      ],
      "metadata": {
        "id": "qcLy06olap70"
      }
    },
    {
      "cell_type": "code",
      "source": [
        "# hyper parameter\n",
        "input_dim = 784\n",
        "hidden_dim = 200\n",
        "latent_dim = 20 # 潜在変数の次元数\n",
        "epochs = 30\n",
        "learning_rate = 3e-4\n",
        "batch_size = 32"
      ],
      "metadata": {
        "id": "MW3KIdJ2bXJp"
      },
      "execution_count": 2,
      "outputs": []
    },
    {
      "cell_type": "code",
      "source": [
        "# encoderの実装\n",
        "# 入力を線形層/活性化層に通してmu, sigmaを出力する\n",
        "# sigmaについて、sigmaを直接出力させることもできるが、要素が全て正であるという制約がつく。\n",
        "# そこで、分散の対数log(sigma^2)を出力させることで値域の制約を無くす事ができる。\n",
        "class Encoder(nn.Module):\n",
        "    def __init__(self, input_dim, hidden_dim, latent_dim):\n",
        "        super().__init__()\n",
        "        self.linear = nn.Linear(input_dim, hidden_dim)\n",
        "        self.linear_mu = nn.Linear(hidden_dim, latent_dim)\n",
        "        self.linear_logvar = nn.Linear(hidden_dim, latent_dim)\n",
        "\n",
        "    def forward(self, x):\n",
        "        x = self.linear(x)\n",
        "        x = F.relu(x)\n",
        "        mu = self.linear_mu(x)\n",
        "        logvar = self.linear_logvar(x)\n",
        "        sigma = torch.exp(0.5 * logvar) # 本来のsigmaに戻す\n",
        "        return mu, sigma"
      ],
      "metadata": {
        "id": "giHPVJsnbpTq"
      },
      "execution_count": 21,
      "outputs": []
    },
    {
      "cell_type": "code",
      "source": [
        "# decoderの実装\n",
        "# MNISTのoutputに合うように最後の出力層はsigmoid関数とする\n",
        "class Decoder(nn.Module):\n",
        "    def __init__(self, latent_dim, hidden_dim, output_dim):\n",
        "        super().__init__()\n",
        "        self.linear1 = nn.Linear(latent_dim, hidden_dim)\n",
        "        self.linear2 = nn.Linear(hidden_dim, output_dim)\n",
        "\n",
        "    def forward(self, z):\n",
        "        z = self.linear1(z)\n",
        "        z = F.relu(z)\n",
        "        z = self.linear2(z)\n",
        "        x_hat = F.sigmoid(z)\n",
        "        return x_hat"
      ],
      "metadata": {
        "id": "KbFhF6rsd24b"
      },
      "execution_count": 16,
      "outputs": []
    },
    {
      "cell_type": "code",
      "source": [
        "# VAEの実装\n",
        "\n",
        "# 変数変換トリック\n",
        "def reparameterize(mu, sigma):\n",
        "    eps = torch.randn_like(sigma)\n",
        "    return mu + eps * sigma\n",
        "\n",
        "class VAE(nn.Module):\n",
        "    def __init__(self, input_dim, hidden_dim, latent_dim):\n",
        "        super().__init__()\n",
        "        self.encoder = Encoder(input_dim, hidden_dim, latent_dim)\n",
        "        self.decoder = Decoder(latent_dim, hidden_dim, input_dim)\n",
        "\n",
        "    def get_loss(self, x):\n",
        "        mu, sigma = self.encoder(x)\n",
        "        z = reparameterize(mu, sigma)\n",
        "        x_hat = self.decoder(z)\n",
        "\n",
        "        batch_size = len(x)\n",
        "        L1 = F.mse_loss(x_hat, x, reduction = 'sum')\n",
        "        L2 = -torch.sum(1 + torch.log(sigma ** 2) - mu ** 2 - sigma ** 2)\n",
        "        return (L1 + L2) / batch_size"
      ],
      "metadata": {
        "id": "7JGjnEGPewKM"
      },
      "execution_count": 23,
      "outputs": []
    },
    {
      "cell_type": "code",
      "source": [
        "# 計算グラフ確認\n",
        "model = VAE(input_dim, hidden_dim, latent_dim)\n",
        "x = torch.randn(1, 28 * 28)\n",
        "y = model.get_loss(x)\n",
        "img = torchviz.make_dot(y, params=dict(model.named_parameters()))\n",
        "display(img)"
      ],
      "metadata": {
        "colab": {
          "base_uri": "https://localhost:8080/",
          "height": 1000
        },
        "id": "p0ggEdIsmuil",
        "outputId": "26a00d55-8a88-49b3-fefc-d82f9591aec6"
      },
      "execution_count": 25,
      "outputs": [
        {
          "output_type": "display_data",
          "data": {
            "image/svg+xml": "<?xml version=\"1.0\" encoding=\"UTF-8\" standalone=\"no\"?>\n<!DOCTYPE svg PUBLIC \"-//W3C//DTD SVG 1.1//EN\"\n \"http://www.w3.org/Graphics/SVG/1.1/DTD/svg11.dtd\">\n<!-- Generated by graphviz version 2.43.0 (0)\n -->\n<!-- Title: %3 Pages: 1 -->\n<svg width=\"957pt\" height=\"1084pt\"\n viewBox=\"0.00 0.00 957.00 1084.00\" xmlns=\"http://www.w3.org/2000/svg\" xmlns:xlink=\"http://www.w3.org/1999/xlink\">\n<g id=\"graph0\" class=\"graph\" transform=\"scale(1 1) rotate(0) translate(4 1080)\">\n<title>%3</title>\n<polygon fill=\"white\" stroke=\"transparent\" points=\"-4,4 -4,-1080 953,-1080 953,4 -4,4\"/>\n<!-- 137223487470288 -->\n<g id=\"node1\" class=\"node\">\n<title>137223487470288</title>\n<polygon fill=\"#caff70\" stroke=\"black\" points=\"428.5,-31 374.5,-31 374.5,0 428.5,0 428.5,-31\"/>\n<text text-anchor=\"middle\" x=\"401.5\" y=\"-7\" font-family=\"monospace\" font-size=\"10.00\"> ()</text>\n</g>\n<!-- 137223495652720 -->\n<g id=\"node2\" class=\"node\">\n<title>137223495652720</title>\n<polygon fill=\"lightgrey\" stroke=\"black\" points=\"446,-86 357,-86 357,-67 446,-67 446,-86\"/>\n<text text-anchor=\"middle\" x=\"401.5\" y=\"-74\" font-family=\"monospace\" font-size=\"10.00\">DivBackward0</text>\n</g>\n<!-- 137223495652720&#45;&gt;137223487470288 -->\n<g id=\"edge53\" class=\"edge\">\n<title>137223495652720&#45;&gt;137223487470288</title>\n<path fill=\"none\" stroke=\"black\" d=\"M401.5,-66.79C401.5,-60.07 401.5,-50.4 401.5,-41.34\"/>\n<polygon fill=\"black\" stroke=\"black\" points=\"405,-41.19 401.5,-31.19 398,-41.19 405,-41.19\"/>\n</g>\n<!-- 137223495661456 -->\n<g id=\"node3\" class=\"node\">\n<title>137223495661456</title>\n<polygon fill=\"lightgrey\" stroke=\"black\" points=\"446,-141 357,-141 357,-122 446,-122 446,-141\"/>\n<text text-anchor=\"middle\" x=\"401.5\" y=\"-129\" font-family=\"monospace\" font-size=\"10.00\">AddBackward0</text>\n</g>\n<!-- 137223495661456&#45;&gt;137223495652720 -->\n<g id=\"edge1\" class=\"edge\">\n<title>137223495661456&#45;&gt;137223495652720</title>\n<path fill=\"none\" stroke=\"black\" d=\"M401.5,-121.75C401.5,-114.8 401.5,-104.85 401.5,-96.13\"/>\n<polygon fill=\"black\" stroke=\"black\" points=\"405,-96.09 401.5,-86.09 398,-96.09 405,-96.09\"/>\n</g>\n<!-- 137223495661744 -->\n<g id=\"node4\" class=\"node\">\n<title>137223495661744</title>\n<polygon fill=\"lightgrey\" stroke=\"black\" points=\"399,-196 286,-196 286,-177 399,-177 399,-196\"/>\n<text text-anchor=\"middle\" x=\"342.5\" y=\"-184\" font-family=\"monospace\" font-size=\"10.00\">MseLossBackward0</text>\n</g>\n<!-- 137223495661744&#45;&gt;137223495661456 -->\n<g id=\"edge2\" class=\"edge\">\n<title>137223495661744&#45;&gt;137223495661456</title>\n<path fill=\"none\" stroke=\"black\" d=\"M351.98,-176.98C360.7,-169.15 373.84,-157.34 384.4,-147.86\"/>\n<polygon fill=\"black\" stroke=\"black\" points=\"386.75,-150.46 391.85,-141.17 382.07,-145.25 386.75,-150.46\"/>\n</g>\n<!-- 137223495659200 -->\n<g id=\"node5\" class=\"node\">\n<title>137223495659200</title>\n<polygon fill=\"lightgrey\" stroke=\"black\" points=\"346,-251 233,-251 233,-232 346,-232 346,-251\"/>\n<text text-anchor=\"middle\" x=\"289.5\" y=\"-239\" font-family=\"monospace\" font-size=\"10.00\">SigmoidBackward0</text>\n</g>\n<!-- 137223495659200&#45;&gt;137223495661744 -->\n<g id=\"edge3\" class=\"edge\">\n<title>137223495659200&#45;&gt;137223495661744</title>\n<path fill=\"none\" stroke=\"black\" d=\"M298.25,-231.75C305.97,-224.03 317.4,-212.6 326.72,-203.28\"/>\n<polygon fill=\"black\" stroke=\"black\" points=\"329.31,-205.64 333.91,-196.09 324.36,-200.69 329.31,-205.64\"/>\n</g>\n<!-- 137223495650032 -->\n<g id=\"node6\" class=\"node\">\n<title>137223495650032</title>\n<polygon fill=\"lightgrey\" stroke=\"black\" points=\"299,-306 198,-306 198,-287 299,-287 299,-306\"/>\n<text text-anchor=\"middle\" x=\"248.5\" y=\"-294\" font-family=\"monospace\" font-size=\"10.00\">AddmmBackward0</text>\n</g>\n<!-- 137223495650032&#45;&gt;137223495659200 -->\n<g id=\"edge4\" class=\"edge\">\n<title>137223495650032&#45;&gt;137223495659200</title>\n<path fill=\"none\" stroke=\"black\" d=\"M255.27,-286.75C261.06,-279.26 269.56,-268.28 276.64,-259.13\"/>\n<polygon fill=\"black\" stroke=\"black\" points=\"279.51,-261.14 282.86,-251.09 273.97,-256.86 279.51,-261.14\"/>\n</g>\n<!-- 137223495653056 -->\n<g id=\"node7\" class=\"node\">\n<title>137223495653056</title>\n<polygon fill=\"lightgrey\" stroke=\"black\" points=\"286,-361 185,-361 185,-342 286,-342 286,-361\"/>\n<text text-anchor=\"middle\" x=\"235.5\" y=\"-349\" font-family=\"monospace\" font-size=\"10.00\">AccumulateGrad</text>\n</g>\n<!-- 137223495653056&#45;&gt;137223495650032 -->\n<g id=\"edge5\" class=\"edge\">\n<title>137223495653056&#45;&gt;137223495650032</title>\n<path fill=\"none\" stroke=\"black\" d=\"M237.65,-341.75C239.37,-334.72 241.85,-324.62 244,-315.84\"/>\n<polygon fill=\"black\" stroke=\"black\" points=\"247.41,-316.63 246.39,-306.09 240.61,-314.97 247.41,-316.63\"/>\n</g>\n<!-- 137223487469520 -->\n<g id=\"node8\" class=\"node\">\n<title>137223487469520</title>\n<polygon fill=\"lightblue\" stroke=\"black\" points=\"280,-427 143,-427 143,-397 280,-397 280,-427\"/>\n<text text-anchor=\"middle\" x=\"211.5\" y=\"-415\" font-family=\"monospace\" font-size=\"10.00\">decoder.linear2.bias</text>\n<text text-anchor=\"middle\" x=\"211.5\" y=\"-404\" font-family=\"monospace\" font-size=\"10.00\"> (784)</text>\n</g>\n<!-- 137223487469520&#45;&gt;137223495653056 -->\n<g id=\"edge6\" class=\"edge\">\n<title>137223487469520&#45;&gt;137223495653056</title>\n<path fill=\"none\" stroke=\"black\" d=\"M217.31,-396.84C220.54,-388.95 224.61,-379.05 228.07,-370.61\"/>\n<polygon fill=\"black\" stroke=\"black\" points=\"231.35,-371.85 231.9,-361.27 224.87,-369.19 231.35,-371.85\"/>\n</g>\n<!-- 137223495661360 -->\n<g id=\"node9\" class=\"node\">\n<title>137223495661360</title>\n<polygon fill=\"lightgrey\" stroke=\"black\" points=\"463,-361 368,-361 368,-342 463,-342 463,-361\"/>\n<text text-anchor=\"middle\" x=\"415.5\" y=\"-349\" font-family=\"monospace\" font-size=\"10.00\">ReluBackward0</text>\n</g>\n<!-- 137223495661360&#45;&gt;137223495650032 -->\n<g id=\"edge7\" class=\"edge\">\n<title>137223495661360&#45;&gt;137223495650032</title>\n<path fill=\"none\" stroke=\"black\" d=\"M388.67,-341.98C360.63,-333.09 316.45,-319.07 285.2,-309.15\"/>\n<polygon fill=\"black\" stroke=\"black\" points=\"286.13,-305.77 275.54,-306.08 284.01,-312.44 286.13,-305.77\"/>\n</g>\n<!-- 137223495658576 -->\n<g id=\"node10\" class=\"node\">\n<title>137223495658576</title>\n<polygon fill=\"lightgrey\" stroke=\"black\" points=\"506,-421.5 405,-421.5 405,-402.5 506,-402.5 506,-421.5\"/>\n<text text-anchor=\"middle\" x=\"455.5\" y=\"-409.5\" font-family=\"monospace\" font-size=\"10.00\">AddmmBackward0</text>\n</g>\n<!-- 137223495658576&#45;&gt;137223495661360 -->\n<g id=\"edge8\" class=\"edge\">\n<title>137223495658576&#45;&gt;137223495661360</title>\n<path fill=\"none\" stroke=\"black\" d=\"M449.6,-402.37C443.75,-393.81 434.63,-380.47 427.29,-369.74\"/>\n<polygon fill=\"black\" stroke=\"black\" points=\"429.96,-367.45 421.43,-361.17 424.18,-371.4 429.96,-367.45\"/>\n</g>\n<!-- 137223495662224 -->\n<g id=\"node11\" class=\"node\">\n<title>137223495662224</title>\n<polygon fill=\"lightgrey\" stroke=\"black\" points=\"617,-487.5 516,-487.5 516,-468.5 617,-468.5 617,-487.5\"/>\n<text text-anchor=\"middle\" x=\"566.5\" y=\"-475.5\" font-family=\"monospace\" font-size=\"10.00\">AccumulateGrad</text>\n</g>\n<!-- 137223495662224&#45;&gt;137223495658576 -->\n<g id=\"edge9\" class=\"edge\">\n<title>137223495662224&#45;&gt;137223495658576</title>\n<path fill=\"none\" stroke=\"black\" d=\"M551.53,-468.37C532.99,-457.68 501.19,-439.35 479.3,-426.72\"/>\n<polygon fill=\"black\" stroke=\"black\" points=\"481,-423.66 470.59,-421.7 477.5,-429.73 481,-423.66\"/>\n</g>\n<!-- 137223487468560 -->\n<g id=\"node12\" class=\"node\">\n<title>137223487468560</title>\n<polygon fill=\"lightblue\" stroke=\"black\" points=\"644,-559 507,-559 507,-529 644,-529 644,-559\"/>\n<text text-anchor=\"middle\" x=\"575.5\" y=\"-547\" font-family=\"monospace\" font-size=\"10.00\">decoder.linear1.bias</text>\n<text text-anchor=\"middle\" x=\"575.5\" y=\"-536\" font-family=\"monospace\" font-size=\"10.00\"> (200)</text>\n</g>\n<!-- 137223487468560&#45;&gt;137223495662224 -->\n<g id=\"edge10\" class=\"edge\">\n<title>137223487468560&#45;&gt;137223495662224</title>\n<path fill=\"none\" stroke=\"black\" d=\"M573.5,-528.8C572.22,-519.7 570.55,-507.79 569.16,-497.9\"/>\n<polygon fill=\"black\" stroke=\"black\" points=\"572.6,-497.26 567.74,-487.84 565.67,-498.23 572.6,-497.26\"/>\n</g>\n<!-- 137223495662368 -->\n<g id=\"node13\" class=\"node\">\n<title>137223495662368</title>\n<polygon fill=\"lightgrey\" stroke=\"black\" points=\"489,-487.5 400,-487.5 400,-468.5 489,-468.5 489,-487.5\"/>\n<text text-anchor=\"middle\" x=\"444.5\" y=\"-475.5\" font-family=\"monospace\" font-size=\"10.00\">AddBackward0</text>\n</g>\n<!-- 137223495662368&#45;&gt;137223495658576 -->\n<g id=\"edge11\" class=\"edge\">\n<title>137223495662368&#45;&gt;137223495658576</title>\n<path fill=\"none\" stroke=\"black\" d=\"M445.98,-468.37C447.58,-459.07 450.18,-443.98 452.25,-431.9\"/>\n<polygon fill=\"black\" stroke=\"black\" points=\"455.72,-432.35 453.97,-421.91 448.83,-431.17 455.72,-432.35\"/>\n</g>\n<!-- 137223495647440 -->\n<g id=\"node14\" class=\"node\">\n<title>137223495647440</title>\n<polygon fill=\"lightgrey\" stroke=\"black\" points=\"382,-553.5 281,-553.5 281,-534.5 382,-534.5 382,-553.5\"/>\n<text text-anchor=\"middle\" x=\"331.5\" y=\"-541.5\" font-family=\"monospace\" font-size=\"10.00\">AddmmBackward0</text>\n</g>\n<!-- 137223495647440&#45;&gt;137223495662368 -->\n<g id=\"edge12\" class=\"edge\">\n<title>137223495647440&#45;&gt;137223495662368</title>\n<path fill=\"none\" stroke=\"black\" d=\"M346.74,-534.37C365.61,-523.68 397.98,-505.35 420.27,-492.72\"/>\n<polygon fill=\"black\" stroke=\"black\" points=\"422.16,-495.67 429.14,-487.7 418.71,-489.58 422.16,-495.67\"/>\n</g>\n<!-- 137223495662992 -->\n<g id=\"node49\" class=\"node\">\n<title>137223495662992</title>\n<polygon fill=\"lightgrey\" stroke=\"black\" points=\"387,-421.5 298,-421.5 298,-402.5 387,-402.5 387,-421.5\"/>\n<text text-anchor=\"middle\" x=\"342.5\" y=\"-409.5\" font-family=\"monospace\" font-size=\"10.00\">PowBackward0</text>\n</g>\n<!-- 137223495647440&#45;&gt;137223495662992 -->\n<g id=\"edge50\" class=\"edge\">\n<title>137223495647440&#45;&gt;137223495662992</title>\n<path fill=\"none\" stroke=\"black\" d=\"M332.22,-534.47C333.97,-513.82 338.46,-460.72 340.89,-432.04\"/>\n<polygon fill=\"black\" stroke=\"black\" points=\"344.41,-431.99 341.76,-421.73 337.43,-431.4 344.41,-431.99\"/>\n</g>\n<!-- 137223495650272 -->\n<g id=\"node15\" class=\"node\">\n<title>137223495650272</title>\n<polygon fill=\"lightgrey\" stroke=\"black\" points=\"494,-619.5 393,-619.5 393,-600.5 494,-600.5 494,-619.5\"/>\n<text text-anchor=\"middle\" x=\"443.5\" y=\"-607.5\" font-family=\"monospace\" font-size=\"10.00\">AccumulateGrad</text>\n</g>\n<!-- 137223495650272&#45;&gt;137223495647440 -->\n<g id=\"edge13\" class=\"edge\">\n<title>137223495650272&#45;&gt;137223495647440</title>\n<path fill=\"none\" stroke=\"black\" d=\"M428.4,-600.37C409.69,-589.68 377.6,-571.35 355.51,-558.72\"/>\n<polygon fill=\"black\" stroke=\"black\" points=\"357.14,-555.62 346.72,-553.7 353.67,-561.7 357.14,-555.62\"/>\n</g>\n<!-- 137223487467504 -->\n<g id=\"node16\" class=\"node\">\n<title>137223487467504</title>\n<polygon fill=\"lightblue\" stroke=\"black\" points=\"518,-691 369,-691 369,-661 518,-661 518,-691\"/>\n<text text-anchor=\"middle\" x=\"443.5\" y=\"-679\" font-family=\"monospace\" font-size=\"10.00\">encoder.linear_mu.bias</text>\n<text text-anchor=\"middle\" x=\"443.5\" y=\"-668\" font-family=\"monospace\" font-size=\"10.00\"> (20)</text>\n</g>\n<!-- 137223487467504&#45;&gt;137223495650272 -->\n<g id=\"edge14\" class=\"edge\">\n<title>137223487467504&#45;&gt;137223495650272</title>\n<path fill=\"none\" stroke=\"black\" d=\"M443.5,-660.8C443.5,-651.7 443.5,-639.79 443.5,-629.9\"/>\n<polygon fill=\"black\" stroke=\"black\" points=\"447,-629.84 443.5,-619.84 440,-629.84 447,-629.84\"/>\n</g>\n<!-- 137223495660304 -->\n<g id=\"node17\" class=\"node\">\n<title>137223495660304</title>\n<polygon fill=\"lightgrey\" stroke=\"black\" points=\"594,-812 499,-812 499,-793 594,-793 594,-812\"/>\n<text text-anchor=\"middle\" x=\"546.5\" y=\"-800\" font-family=\"monospace\" font-size=\"10.00\">ReluBackward0</text>\n</g>\n<!-- 137223495660304&#45;&gt;137223495647440 -->\n<g id=\"edge15\" class=\"edge\">\n<title>137223495660304&#45;&gt;137223495647440</title>\n<path fill=\"none\" stroke=\"black\" d=\"M547.79,-792.81C551.98,-760.94 561.78,-649.56 503.5,-595 494.1,-586.2 424.8,-567.84 377.08,-555.99\"/>\n<polygon fill=\"black\" stroke=\"black\" points=\"377.81,-552.56 367.26,-553.56 376.13,-559.35 377.81,-552.56\"/>\n</g>\n<!-- 137223495647728 -->\n<g id=\"node30\" class=\"node\">\n<title>137223495647728</title>\n<polygon fill=\"lightgrey\" stroke=\"black\" points=\"753,-751.5 652,-751.5 652,-732.5 753,-732.5 753,-751.5\"/>\n<text text-anchor=\"middle\" x=\"702.5\" y=\"-739.5\" font-family=\"monospace\" font-size=\"10.00\">AddmmBackward0</text>\n</g>\n<!-- 137223495660304&#45;&gt;137223495647728 -->\n<g id=\"edge31\" class=\"edge\">\n<title>137223495660304&#45;&gt;137223495647728</title>\n<path fill=\"none\" stroke=\"black\" d=\"M569.18,-792.99C595.76,-783.03 639.98,-766.45 670.14,-755.13\"/>\n<polygon fill=\"black\" stroke=\"black\" points=\"671.65,-758.31 679.79,-751.52 669.2,-751.75 671.65,-758.31\"/>\n</g>\n<!-- 137223495659968 -->\n<g id=\"node18\" class=\"node\">\n<title>137223495659968</title>\n<polygon fill=\"lightgrey\" stroke=\"black\" points=\"597,-872.5 496,-872.5 496,-853.5 597,-853.5 597,-872.5\"/>\n<text text-anchor=\"middle\" x=\"546.5\" y=\"-860.5\" font-family=\"monospace\" font-size=\"10.00\">AddmmBackward0</text>\n</g>\n<!-- 137223495659968&#45;&gt;137223495660304 -->\n<g id=\"edge16\" class=\"edge\">\n<title>137223495659968&#45;&gt;137223495660304</title>\n<path fill=\"none\" stroke=\"black\" d=\"M546.5,-853.37C546.5,-845.25 546.5,-832.81 546.5,-822.39\"/>\n<polygon fill=\"black\" stroke=\"black\" points=\"550,-822.17 546.5,-812.17 543,-822.17 550,-822.17\"/>\n</g>\n<!-- 137223495660208 -->\n<g id=\"node19\" class=\"node\">\n<title>137223495660208</title>\n<polygon fill=\"lightgrey\" stroke=\"black\" points=\"530,-938.5 429,-938.5 429,-919.5 530,-919.5 530,-938.5\"/>\n<text text-anchor=\"middle\" x=\"479.5\" y=\"-926.5\" font-family=\"monospace\" font-size=\"10.00\">AccumulateGrad</text>\n</g>\n<!-- 137223495660208&#45;&gt;137223495659968 -->\n<g id=\"edge17\" class=\"edge\">\n<title>137223495660208&#45;&gt;137223495659968</title>\n<path fill=\"none\" stroke=\"black\" d=\"M488.54,-919.37C499.07,-909.31 516.69,-892.48 529.74,-880.01\"/>\n<polygon fill=\"black\" stroke=\"black\" points=\"532.36,-882.34 537.18,-872.91 527.53,-877.28 532.36,-882.34\"/>\n</g>\n<!-- 137223487459824 -->\n<g id=\"node20\" class=\"node\">\n<title>137223487459824</title>\n<polygon fill=\"lightblue\" stroke=\"black\" points=\"532,-1010 401,-1010 401,-980 532,-980 532,-1010\"/>\n<text text-anchor=\"middle\" x=\"466.5\" y=\"-998\" font-family=\"monospace\" font-size=\"10.00\">encoder.linear.bias</text>\n<text text-anchor=\"middle\" x=\"466.5\" y=\"-987\" font-family=\"monospace\" font-size=\"10.00\"> (200)</text>\n</g>\n<!-- 137223487459824&#45;&gt;137223495660208 -->\n<g id=\"edge18\" class=\"edge\">\n<title>137223487459824&#45;&gt;137223495660208</title>\n<path fill=\"none\" stroke=\"black\" d=\"M469.39,-979.8C471.23,-970.7 473.65,-958.79 475.66,-948.9\"/>\n<polygon fill=\"black\" stroke=\"black\" points=\"479.14,-949.34 477.7,-938.84 472.28,-947.95 479.14,-949.34\"/>\n</g>\n<!-- 137223495659152 -->\n<g id=\"node21\" class=\"node\">\n<title>137223495659152</title>\n<polygon fill=\"lightgrey\" stroke=\"black\" points=\"632,-938.5 555,-938.5 555,-919.5 632,-919.5 632,-938.5\"/>\n<text text-anchor=\"middle\" x=\"593.5\" y=\"-926.5\" font-family=\"monospace\" font-size=\"10.00\">TBackward0</text>\n</g>\n<!-- 137223495659152&#45;&gt;137223495659968 -->\n<g id=\"edge19\" class=\"edge\">\n<title>137223495659152&#45;&gt;137223495659968</title>\n<path fill=\"none\" stroke=\"black\" d=\"M587.16,-919.37C579.98,-909.59 568.11,-893.42 559.04,-881.08\"/>\n<polygon fill=\"black\" stroke=\"black\" points=\"561.78,-878.89 553.04,-872.91 556.14,-883.04 561.78,-878.89\"/>\n</g>\n<!-- 137223495653728 -->\n<g id=\"node22\" class=\"node\">\n<title>137223495653728</title>\n<polygon fill=\"lightgrey\" stroke=\"black\" points=\"651,-1004.5 550,-1004.5 550,-985.5 651,-985.5 651,-1004.5\"/>\n<text text-anchor=\"middle\" x=\"600.5\" y=\"-992.5\" font-family=\"monospace\" font-size=\"10.00\">AccumulateGrad</text>\n</g>\n<!-- 137223495653728&#45;&gt;137223495659152 -->\n<g id=\"edge20\" class=\"edge\">\n<title>137223495653728&#45;&gt;137223495659152</title>\n<path fill=\"none\" stroke=\"black\" d=\"M599.56,-985.37C598.54,-976.07 596.89,-960.98 595.57,-948.9\"/>\n<polygon fill=\"black\" stroke=\"black\" points=\"599.04,-948.47 594.47,-938.91 592.08,-949.23 599.04,-948.47\"/>\n</g>\n<!-- 137223487468272 -->\n<g id=\"node23\" class=\"node\">\n<title>137223487468272</title>\n<polygon fill=\"lightblue\" stroke=\"black\" points=\"672,-1076 529,-1076 529,-1046 672,-1046 672,-1076\"/>\n<text text-anchor=\"middle\" x=\"600.5\" y=\"-1064\" font-family=\"monospace\" font-size=\"10.00\">encoder.linear.weight</text>\n<text text-anchor=\"middle\" x=\"600.5\" y=\"-1053\" font-family=\"monospace\" font-size=\"10.00\"> (200, 784)</text>\n</g>\n<!-- 137223487468272&#45;&gt;137223495653728 -->\n<g id=\"edge21\" class=\"edge\">\n<title>137223487468272&#45;&gt;137223495653728</title>\n<path fill=\"none\" stroke=\"black\" d=\"M600.5,-1045.8C600.5,-1036.7 600.5,-1024.79 600.5,-1014.9\"/>\n<polygon fill=\"black\" stroke=\"black\" points=\"604,-1014.84 600.5,-1004.84 597,-1014.84 604,-1014.84\"/>\n</g>\n<!-- 137223495650992 -->\n<g id=\"node24\" class=\"node\">\n<title>137223495650992</title>\n<polygon fill=\"lightgrey\" stroke=\"black\" points=\"370,-619.5 293,-619.5 293,-600.5 370,-600.5 370,-619.5\"/>\n<text text-anchor=\"middle\" x=\"331.5\" y=\"-607.5\" font-family=\"monospace\" font-size=\"10.00\">TBackward0</text>\n</g>\n<!-- 137223495650992&#45;&gt;137223495647440 -->\n<g id=\"edge22\" class=\"edge\">\n<title>137223495650992&#45;&gt;137223495647440</title>\n<path fill=\"none\" stroke=\"black\" d=\"M331.5,-600.37C331.5,-591.16 331.5,-576.29 331.5,-564.27\"/>\n<polygon fill=\"black\" stroke=\"black\" points=\"335,-563.91 331.5,-553.91 328,-563.91 335,-563.91\"/>\n</g>\n<!-- 137223495654784 -->\n<g id=\"node25\" class=\"node\">\n<title>137223495654784</title>\n<polygon fill=\"lightgrey\" stroke=\"black\" points=\"351,-685.5 250,-685.5 250,-666.5 351,-666.5 351,-685.5\"/>\n<text text-anchor=\"middle\" x=\"300.5\" y=\"-673.5\" font-family=\"monospace\" font-size=\"10.00\">AccumulateGrad</text>\n</g>\n<!-- 137223495654784&#45;&gt;137223495650992 -->\n<g id=\"edge23\" class=\"edge\">\n<title>137223495654784&#45;&gt;137223495650992</title>\n<path fill=\"none\" stroke=\"black\" d=\"M304.68,-666.37C309.28,-656.88 316.79,-641.36 322.7,-629.16\"/>\n<polygon fill=\"black\" stroke=\"black\" points=\"325.98,-630.43 327.19,-619.91 319.68,-627.38 325.98,-630.43\"/>\n</g>\n<!-- 137223487466256 -->\n<g id=\"node26\" class=\"node\">\n<title>137223487466256</title>\n<polygon fill=\"lightblue\" stroke=\"black\" points=\"381,-757 220,-757 220,-727 381,-727 381,-757\"/>\n<text text-anchor=\"middle\" x=\"300.5\" y=\"-745\" font-family=\"monospace\" font-size=\"10.00\">encoder.linear_mu.weight</text>\n<text text-anchor=\"middle\" x=\"300.5\" y=\"-734\" font-family=\"monospace\" font-size=\"10.00\"> (20, 200)</text>\n</g>\n<!-- 137223487466256&#45;&gt;137223495654784 -->\n<g id=\"edge24\" class=\"edge\">\n<title>137223487466256&#45;&gt;137223495654784</title>\n<path fill=\"none\" stroke=\"black\" d=\"M300.5,-726.8C300.5,-717.7 300.5,-705.79 300.5,-695.9\"/>\n<polygon fill=\"black\" stroke=\"black\" points=\"304,-695.84 300.5,-685.84 297,-695.84 304,-695.84\"/>\n</g>\n<!-- 137223495658432 -->\n<g id=\"node27\" class=\"node\">\n<title>137223495658432</title>\n<polygon fill=\"lightgrey\" stroke=\"black\" points=\"489,-553.5 400,-553.5 400,-534.5 489,-534.5 489,-553.5\"/>\n<text text-anchor=\"middle\" x=\"444.5\" y=\"-541.5\" font-family=\"monospace\" font-size=\"10.00\">MulBackward0</text>\n</g>\n<!-- 137223495658432&#45;&gt;137223495662368 -->\n<g id=\"edge25\" class=\"edge\">\n<title>137223495658432&#45;&gt;137223495662368</title>\n<path fill=\"none\" stroke=\"black\" d=\"M444.5,-534.37C444.5,-525.16 444.5,-510.29 444.5,-498.27\"/>\n<polygon fill=\"black\" stroke=\"black\" points=\"448,-497.91 444.5,-487.91 441,-497.91 448,-497.91\"/>\n</g>\n<!-- 137223495647584 -->\n<g id=\"node28\" class=\"node\">\n<title>137223495647584</title>\n<polygon fill=\"lightgrey\" stroke=\"black\" points=\"750,-619.5 661,-619.5 661,-600.5 750,-600.5 750,-619.5\"/>\n<text text-anchor=\"middle\" x=\"705.5\" y=\"-607.5\" font-family=\"monospace\" font-size=\"10.00\">ExpBackward0</text>\n</g>\n<!-- 137223495647584&#45;&gt;137223495658432 -->\n<g id=\"edge26\" class=\"edge\">\n<title>137223495647584&#45;&gt;137223495658432</title>\n<path fill=\"none\" stroke=\"black\" d=\"M669.18,-600.42C627.82,-590.6 558.21,-573.95 498.5,-559 494.7,-558.05 490.75,-557.05 486.79,-556.04\"/>\n<polygon fill=\"black\" stroke=\"black\" points=\"487.59,-552.63 477.03,-553.53 485.84,-559.41 487.59,-552.63\"/>\n</g>\n<!-- 137223495649216 -->\n<g id=\"node48\" class=\"node\">\n<title>137223495649216</title>\n<polygon fill=\"lightgrey\" stroke=\"black\" points=\"751,-553.5 662,-553.5 662,-534.5 751,-534.5 751,-553.5\"/>\n<text text-anchor=\"middle\" x=\"706.5\" y=\"-541.5\" font-family=\"monospace\" font-size=\"10.00\">PowBackward0</text>\n</g>\n<!-- 137223495647584&#45;&gt;137223495649216 -->\n<g id=\"edge48\" class=\"edge\">\n<title>137223495647584&#45;&gt;137223495649216</title>\n<path fill=\"none\" stroke=\"black\" d=\"M705.63,-600.37C705.78,-591.16 706.01,-576.29 706.2,-564.27\"/>\n<polygon fill=\"black\" stroke=\"black\" points=\"709.7,-563.96 706.36,-553.91 702.7,-563.85 709.7,-563.96\"/>\n</g>\n<!-- 137223495649504 -->\n<g id=\"node50\" class=\"node\">\n<title>137223495649504</title>\n<polygon fill=\"lightgrey\" stroke=\"black\" points=\"812,-421.5 723,-421.5 723,-402.5 812,-402.5 812,-421.5\"/>\n<text text-anchor=\"middle\" x=\"767.5\" y=\"-409.5\" font-family=\"monospace\" font-size=\"10.00\">PowBackward0</text>\n</g>\n<!-- 137223495647584&#45;&gt;137223495649504 -->\n<g id=\"edge52\" class=\"edge\">\n<title>137223495647584&#45;&gt;137223495649504</title>\n<path fill=\"none\" stroke=\"black\" d=\"M720.19,-600.41C733.37,-591.79 751.92,-577.21 760.5,-559 780.27,-517.05 775.38,-460.6 770.97,-431.72\"/>\n<polygon fill=\"black\" stroke=\"black\" points=\"774.4,-431.06 769.29,-421.78 767.5,-432.22 774.4,-431.06\"/>\n</g>\n<!-- 137223495662464 -->\n<g id=\"node29\" class=\"node\">\n<title>137223495662464</title>\n<polygon fill=\"lightgrey\" stroke=\"black\" points=\"750,-685.5 661,-685.5 661,-666.5 750,-666.5 750,-685.5\"/>\n<text text-anchor=\"middle\" x=\"705.5\" y=\"-673.5\" font-family=\"monospace\" font-size=\"10.00\">MulBackward0</text>\n</g>\n<!-- 137223495662464&#45;&gt;137223495647584 -->\n<g id=\"edge27\" class=\"edge\">\n<title>137223495662464&#45;&gt;137223495647584</title>\n<path fill=\"none\" stroke=\"black\" d=\"M705.5,-666.37C705.5,-657.16 705.5,-642.29 705.5,-630.27\"/>\n<polygon fill=\"black\" stroke=\"black\" points=\"709,-629.91 705.5,-619.91 702,-629.91 709,-629.91\"/>\n</g>\n<!-- 137223495647728&#45;&gt;137223495662464 -->\n<g id=\"edge28\" class=\"edge\">\n<title>137223495647728&#45;&gt;137223495662464</title>\n<path fill=\"none\" stroke=\"black\" d=\"M702.9,-732.37C703.34,-723.07 704.05,-707.98 704.61,-695.9\"/>\n<polygon fill=\"black\" stroke=\"black\" points=\"708.11,-696.06 705.08,-685.91 701.12,-695.73 708.11,-696.06\"/>\n</g>\n<!-- 137223495647776 -->\n<g id=\"node31\" class=\"node\">\n<title>137223495647776</title>\n<polygon fill=\"lightgrey\" stroke=\"black\" points=\"752,-812 651,-812 651,-793 752,-793 752,-812\"/>\n<text text-anchor=\"middle\" x=\"701.5\" y=\"-800\" font-family=\"monospace\" font-size=\"10.00\">AccumulateGrad</text>\n</g>\n<!-- 137223495647776&#45;&gt;137223495647728 -->\n<g id=\"edge29\" class=\"edge\">\n<title>137223495647776&#45;&gt;137223495647728</title>\n<path fill=\"none\" stroke=\"black\" d=\"M701.65,-792.87C701.79,-784.75 702,-772.31 702.18,-761.89\"/>\n<polygon fill=\"black\" stroke=\"black\" points=\"705.68,-761.73 702.35,-751.67 698.68,-761.61 705.68,-761.73\"/>\n</g>\n<!-- 137223487468944 -->\n<g id=\"node32\" class=\"node\">\n<title>137223487468944</title>\n<polygon fill=\"lightblue\" stroke=\"black\" points=\"788,-878 615,-878 615,-848 788,-848 788,-878\"/>\n<text text-anchor=\"middle\" x=\"701.5\" y=\"-866\" font-family=\"monospace\" font-size=\"10.00\">encoder.linear_logvar.bias</text>\n<text text-anchor=\"middle\" x=\"701.5\" y=\"-855\" font-family=\"monospace\" font-size=\"10.00\"> (20)</text>\n</g>\n<!-- 137223487468944&#45;&gt;137223495647776 -->\n<g id=\"edge30\" class=\"edge\">\n<title>137223487468944&#45;&gt;137223495647776</title>\n<path fill=\"none\" stroke=\"black\" d=\"M701.5,-847.84C701.5,-840.21 701.5,-830.7 701.5,-822.45\"/>\n<polygon fill=\"black\" stroke=\"black\" points=\"705,-822.27 701.5,-812.27 698,-822.27 705,-822.27\"/>\n</g>\n<!-- 137223495654544 -->\n<g id=\"node33\" class=\"node\">\n<title>137223495654544</title>\n<polygon fill=\"lightgrey\" stroke=\"black\" points=\"871,-812 794,-812 794,-793 871,-793 871,-812\"/>\n<text text-anchor=\"middle\" x=\"832.5\" y=\"-800\" font-family=\"monospace\" font-size=\"10.00\">TBackward0</text>\n</g>\n<!-- 137223495654544&#45;&gt;137223495647728 -->\n<g id=\"edge32\" class=\"edge\">\n<title>137223495654544&#45;&gt;137223495647728</title>\n<path fill=\"none\" stroke=\"black\" d=\"M813.6,-792.99C791.84,-783.2 755.88,-767.02 730.79,-755.73\"/>\n<polygon fill=\"black\" stroke=\"black\" points=\"731.98,-752.43 721.43,-751.52 729.11,-758.81 731.98,-752.43\"/>\n</g>\n<!-- 137223495654640 -->\n<g id=\"node34\" class=\"node\">\n<title>137223495654640</title>\n<polygon fill=\"lightgrey\" stroke=\"black\" points=\"907,-872.5 806,-872.5 806,-853.5 907,-853.5 907,-872.5\"/>\n<text text-anchor=\"middle\" x=\"856.5\" y=\"-860.5\" font-family=\"monospace\" font-size=\"10.00\">AccumulateGrad</text>\n</g>\n<!-- 137223495654640&#45;&gt;137223495654544 -->\n<g id=\"edge33\" class=\"edge\">\n<title>137223495654640&#45;&gt;137223495654544</title>\n<path fill=\"none\" stroke=\"black\" d=\"M852.96,-853.37C849.56,-845.07 844.31,-832.28 839.98,-821.72\"/>\n<polygon fill=\"black\" stroke=\"black\" points=\"843.09,-820.09 836.06,-812.17 836.61,-822.75 843.09,-820.09\"/>\n</g>\n<!-- 137223487467216 -->\n<g id=\"node35\" class=\"node\">\n<title>137223487467216</title>\n<polygon fill=\"lightblue\" stroke=\"black\" points=\"949,-944 764,-944 764,-914 949,-914 949,-944\"/>\n<text text-anchor=\"middle\" x=\"856.5\" y=\"-932\" font-family=\"monospace\" font-size=\"10.00\">encoder.linear_logvar.weight</text>\n<text text-anchor=\"middle\" x=\"856.5\" y=\"-921\" font-family=\"monospace\" font-size=\"10.00\"> (20, 200)</text>\n</g>\n<!-- 137223487467216&#45;&gt;137223495654640 -->\n<g id=\"edge34\" class=\"edge\">\n<title>137223487467216&#45;&gt;137223495654640</title>\n<path fill=\"none\" stroke=\"black\" d=\"M856.5,-913.8C856.5,-904.7 856.5,-892.79 856.5,-882.9\"/>\n<polygon fill=\"black\" stroke=\"black\" points=\"860,-882.84 856.5,-872.84 853,-882.84 860,-882.84\"/>\n</g>\n<!-- 137223495654448 -->\n<g id=\"node36\" class=\"node\">\n<title>137223495654448</title>\n<polygon fill=\"lightgrey\" stroke=\"black\" points=\"253,-487.5 176,-487.5 176,-468.5 253,-468.5 253,-487.5\"/>\n<text text-anchor=\"middle\" x=\"214.5\" y=\"-475.5\" font-family=\"monospace\" font-size=\"10.00\">TBackward0</text>\n</g>\n<!-- 137223495654448&#45;&gt;137223495658576 -->\n<g id=\"edge35\" class=\"edge\">\n<title>137223495654448&#45;&gt;137223495658576</title>\n<path fill=\"none\" stroke=\"black\" d=\"M247,-468.37C289.97,-456.96 365.77,-436.83 413.18,-424.24\"/>\n<polygon fill=\"black\" stroke=\"black\" points=\"414.36,-427.55 423.13,-421.6 412.57,-420.78 414.36,-427.55\"/>\n</g>\n<!-- 137223495649840 -->\n<g id=\"node37\" class=\"node\">\n<title>137223495649840</title>\n<polygon fill=\"lightgrey\" stroke=\"black\" points=\"259,-553.5 158,-553.5 158,-534.5 259,-534.5 259,-553.5\"/>\n<text text-anchor=\"middle\" x=\"208.5\" y=\"-541.5\" font-family=\"monospace\" font-size=\"10.00\">AccumulateGrad</text>\n</g>\n<!-- 137223495649840&#45;&gt;137223495654448 -->\n<g id=\"edge36\" class=\"edge\">\n<title>137223495649840&#45;&gt;137223495654448</title>\n<path fill=\"none\" stroke=\"black\" d=\"M209.31,-534.37C210.18,-525.07 211.6,-509.98 212.73,-497.9\"/>\n<polygon fill=\"black\" stroke=\"black\" points=\"216.22,-498.19 213.67,-487.91 209.25,-497.53 216.22,-498.19\"/>\n</g>\n<!-- 137223487469328 -->\n<g id=\"node38\" class=\"node\">\n<title>137223487469328</title>\n<polygon fill=\"lightblue\" stroke=\"black\" points=\"275,-625 126,-625 126,-595 275,-595 275,-625\"/>\n<text text-anchor=\"middle\" x=\"200.5\" y=\"-613\" font-family=\"monospace\" font-size=\"10.00\">decoder.linear1.weight</text>\n<text text-anchor=\"middle\" x=\"200.5\" y=\"-602\" font-family=\"monospace\" font-size=\"10.00\"> (200, 20)</text>\n</g>\n<!-- 137223487469328&#45;&gt;137223495649840 -->\n<g id=\"edge37\" class=\"edge\">\n<title>137223487469328&#45;&gt;137223495649840</title>\n<path fill=\"none\" stroke=\"black\" d=\"M202.28,-594.8C203.41,-585.7 204.9,-573.79 206.14,-563.9\"/>\n<polygon fill=\"black\" stroke=\"black\" points=\"209.63,-564.2 207.39,-553.84 202.68,-563.33 209.63,-564.2\"/>\n</g>\n<!-- 137223495659344 -->\n<g id=\"node39\" class=\"node\">\n<title>137223495659344</title>\n<polygon fill=\"lightgrey\" stroke=\"black\" points=\"152,-361 75,-361 75,-342 152,-342 152,-361\"/>\n<text text-anchor=\"middle\" x=\"113.5\" y=\"-349\" font-family=\"monospace\" font-size=\"10.00\">TBackward0</text>\n</g>\n<!-- 137223495659344&#45;&gt;137223495650032 -->\n<g id=\"edge38\" class=\"edge\">\n<title>137223495659344&#45;&gt;137223495650032</title>\n<path fill=\"none\" stroke=\"black\" d=\"M135.19,-341.98C157.3,-333.3 191.82,-319.75 216.95,-309.88\"/>\n<polygon fill=\"black\" stroke=\"black\" points=\"218.39,-313.08 226.42,-306.17 215.83,-306.57 218.39,-313.08\"/>\n</g>\n<!-- 137223495653680 -->\n<g id=\"node40\" class=\"node\">\n<title>137223495653680</title>\n<polygon fill=\"lightgrey\" stroke=\"black\" points=\"125,-421.5 24,-421.5 24,-402.5 125,-402.5 125,-421.5\"/>\n<text text-anchor=\"middle\" x=\"74.5\" y=\"-409.5\" font-family=\"monospace\" font-size=\"10.00\">AccumulateGrad</text>\n</g>\n<!-- 137223495653680&#45;&gt;137223495659344 -->\n<g id=\"edge39\" class=\"edge\">\n<title>137223495653680&#45;&gt;137223495659344</title>\n<path fill=\"none\" stroke=\"black\" d=\"M80.25,-402.37C85.96,-393.81 94.85,-380.47 102.01,-369.74\"/>\n<polygon fill=\"black\" stroke=\"black\" points=\"105.09,-371.43 107.72,-361.17 99.26,-367.55 105.09,-371.43\"/>\n</g>\n<!-- 137223487468176 -->\n<g id=\"node41\" class=\"node\">\n<title>137223487468176</title>\n<polygon fill=\"lightblue\" stroke=\"black\" points=\"149,-493 0,-493 0,-463 149,-463 149,-493\"/>\n<text text-anchor=\"middle\" x=\"74.5\" y=\"-481\" font-family=\"monospace\" font-size=\"10.00\">decoder.linear2.weight</text>\n<text text-anchor=\"middle\" x=\"74.5\" y=\"-470\" font-family=\"monospace\" font-size=\"10.00\"> (784, 200)</text>\n</g>\n<!-- 137223487468176&#45;&gt;137223495653680 -->\n<g id=\"edge40\" class=\"edge\">\n<title>137223487468176&#45;&gt;137223495653680</title>\n<path fill=\"none\" stroke=\"black\" d=\"M74.5,-462.8C74.5,-453.7 74.5,-441.79 74.5,-431.9\"/>\n<polygon fill=\"black\" stroke=\"black\" points=\"78,-431.84 74.5,-421.84 71,-431.84 78,-431.84\"/>\n</g>\n<!-- 137223495659824 -->\n<g id=\"node42\" class=\"node\">\n<title>137223495659824</title>\n<polygon fill=\"lightgrey\" stroke=\"black\" points=\"533,-196 444,-196 444,-177 533,-177 533,-196\"/>\n<text text-anchor=\"middle\" x=\"488.5\" y=\"-184\" font-family=\"monospace\" font-size=\"10.00\">NegBackward0</text>\n</g>\n<!-- 137223495659824&#45;&gt;137223495661456 -->\n<g id=\"edge41\" class=\"edge\">\n<title>137223495659824&#45;&gt;137223495661456</title>\n<path fill=\"none\" stroke=\"black\" d=\"M474.52,-176.98C461.03,-168.77 440.37,-156.18 424.46,-146.49\"/>\n<polygon fill=\"black\" stroke=\"black\" points=\"426.09,-143.38 415.73,-141.17 422.45,-149.36 426.09,-143.38\"/>\n</g>\n<!-- 137223495658144 -->\n<g id=\"node43\" class=\"node\">\n<title>137223495658144</title>\n<polygon fill=\"lightgrey\" stroke=\"black\" points=\"574,-251 485,-251 485,-232 574,-232 574,-251\"/>\n<text text-anchor=\"middle\" x=\"529.5\" y=\"-239\" font-family=\"monospace\" font-size=\"10.00\">SumBackward0</text>\n</g>\n<!-- 137223495658144&#45;&gt;137223495659824 -->\n<g id=\"edge42\" class=\"edge\">\n<title>137223495658144&#45;&gt;137223495659824</title>\n<path fill=\"none\" stroke=\"black\" d=\"M522.73,-231.75C516.94,-224.26 508.44,-213.28 501.36,-204.13\"/>\n<polygon fill=\"black\" stroke=\"black\" points=\"504.03,-201.86 495.14,-196.09 498.49,-206.14 504.03,-201.86\"/>\n</g>\n<!-- 137223495661216 -->\n<g id=\"node44\" class=\"node\">\n<title>137223495661216</title>\n<polygon fill=\"lightgrey\" stroke=\"black\" points=\"656,-306 567,-306 567,-287 656,-287 656,-306\"/>\n<text text-anchor=\"middle\" x=\"611.5\" y=\"-294\" font-family=\"monospace\" font-size=\"10.00\">SubBackward0</text>\n</g>\n<!-- 137223495661216&#45;&gt;137223495658144 -->\n<g id=\"edge43\" class=\"edge\">\n<title>137223495661216&#45;&gt;137223495658144</title>\n<path fill=\"none\" stroke=\"black\" d=\"M598.33,-286.98C585.73,-278.84 566.5,-266.41 551.56,-256.76\"/>\n<polygon fill=\"black\" stroke=\"black\" points=\"553.21,-253.66 542.91,-251.17 549.41,-259.54 553.21,-253.66\"/>\n</g>\n<!-- 137223495660784 -->\n<g id=\"node45\" class=\"node\">\n<title>137223495660784</title>\n<polygon fill=\"lightgrey\" stroke=\"black\" points=\"656,-361 567,-361 567,-342 656,-342 656,-361\"/>\n<text text-anchor=\"middle\" x=\"611.5\" y=\"-349\" font-family=\"monospace\" font-size=\"10.00\">SubBackward0</text>\n</g>\n<!-- 137223495660784&#45;&gt;137223495661216 -->\n<g id=\"edge44\" class=\"edge\">\n<title>137223495660784&#45;&gt;137223495661216</title>\n<path fill=\"none\" stroke=\"black\" d=\"M611.5,-341.75C611.5,-334.8 611.5,-324.85 611.5,-316.13\"/>\n<polygon fill=\"black\" stroke=\"black\" points=\"615,-316.09 611.5,-306.09 608,-316.09 615,-316.09\"/>\n</g>\n<!-- 137223495658240 -->\n<g id=\"node46\" class=\"node\">\n<title>137223495658240</title>\n<polygon fill=\"lightgrey\" stroke=\"black\" points=\"662,-421.5 573,-421.5 573,-402.5 662,-402.5 662,-421.5\"/>\n<text text-anchor=\"middle\" x=\"617.5\" y=\"-409.5\" font-family=\"monospace\" font-size=\"10.00\">AddBackward0</text>\n</g>\n<!-- 137223495658240&#45;&gt;137223495660784 -->\n<g id=\"edge45\" class=\"edge\">\n<title>137223495658240&#45;&gt;137223495660784</title>\n<path fill=\"none\" stroke=\"black\" d=\"M616.61,-402.37C615.78,-394.25 614.51,-381.81 613.44,-371.39\"/>\n<polygon fill=\"black\" stroke=\"black\" points=\"616.89,-370.76 612.39,-361.17 609.93,-371.47 616.89,-370.76\"/>\n</g>\n<!-- 137223495657136 -->\n<g id=\"node47\" class=\"node\">\n<title>137223495657136</title>\n<polygon fill=\"lightgrey\" stroke=\"black\" points=\"738,-487.5 649,-487.5 649,-468.5 738,-468.5 738,-487.5\"/>\n<text text-anchor=\"middle\" x=\"693.5\" y=\"-475.5\" font-family=\"monospace\" font-size=\"10.00\">LogBackward0</text>\n</g>\n<!-- 137223495657136&#45;&gt;137223495658240 -->\n<g id=\"edge46\" class=\"edge\">\n<title>137223495657136&#45;&gt;137223495658240</title>\n<path fill=\"none\" stroke=\"black\" d=\"M683.25,-468.37C671.19,-458.21 650.94,-441.16 636.09,-428.65\"/>\n<polygon fill=\"black\" stroke=\"black\" points=\"637.98,-425.67 628.07,-421.91 633.47,-431.02 637.98,-425.67\"/>\n</g>\n<!-- 137223495649216&#45;&gt;137223495657136 -->\n<g id=\"edge47\" class=\"edge\">\n<title>137223495649216&#45;&gt;137223495657136</title>\n<path fill=\"none\" stroke=\"black\" d=\"M704.75,-534.37C702.86,-525.07 699.79,-509.98 697.34,-497.9\"/>\n<polygon fill=\"black\" stroke=\"black\" points=\"700.73,-497.01 695.31,-487.91 693.87,-498.4 700.73,-497.01\"/>\n</g>\n<!-- 137223495662992&#45;&gt;137223495660784 -->\n<g id=\"edge49\" class=\"edge\">\n<title>137223495662992&#45;&gt;137223495660784</title>\n<path fill=\"none\" stroke=\"black\" d=\"M374.42,-402.45C381.66,-400.58 389.33,-398.67 396.5,-397 450.92,-384.32 513.51,-371.57 557.07,-362.99\"/>\n<polygon fill=\"black\" stroke=\"black\" points=\"557.75,-366.42 566.89,-361.06 556.4,-359.56 557.75,-366.42\"/>\n</g>\n<!-- 137223495649504&#45;&gt;137223495661216 -->\n<g id=\"edge51\" class=\"edge\">\n<title>137223495649504&#45;&gt;137223495661216</title>\n<path fill=\"none\" stroke=\"black\" d=\"M755.77,-402.47C729.35,-383.24 664.87,-336.33 631.8,-312.27\"/>\n<polygon fill=\"black\" stroke=\"black\" points=\"633.51,-309.18 623.36,-306.13 629.39,-314.84 633.51,-309.18\"/>\n</g>\n</g>\n</svg>\n",
            "text/plain": [
              "<graphviz.graphs.Digraph at 0x7ccdd55b6f90>"
            ]
          },
          "metadata": {}
        }
      ]
    }
  ]
}