{
  "nbformat": 4,
  "nbformat_minor": 0,
  "metadata": {
    "colab": {
      "provenance": [],
      "toc_visible": true,
      "authorship_tag": "ABX9TyNeMST8eBn5aSVOmswWz4Z8",
      "include_colab_link": true
    },
    "kernelspec": {
      "name": "python3",
      "display_name": "Python 3"
    },
    "language_info": {
      "name": "python"
    }
  },
  "cells": [
    {
      "cell_type": "markdown",
      "metadata": {
        "id": "view-in-github",
        "colab_type": "text"
      },
      "source": [
        "<a href=\"https://colab.research.google.com/github/Spica08/deep-learning-from-scratch-5/blob/main/step2.ipynb\" target=\"_parent\"><img src=\"https://colab.research.google.com/assets/colab-badge.svg\" alt=\"Open In Colab\"/></a>"
      ]
    },
    {
      "cell_type": "code",
      "source": [
        "# set up\n",
        "import os\n",
        "import numpy as np\n",
        "from scipy.stats import norm\n",
        "import matplotlib.pyplot as plt"
      ],
      "metadata": {
        "id": "2GdL6oOjPzoL"
      },
      "execution_count": 9,
      "outputs": []
    },
    {
      "cell_type": "code",
      "source": [
        "#データ準備\n",
        "from google.colab import drive\n",
        "drive.mount('/content/drive')"
      ],
      "metadata": {
        "colab": {
          "base_uri": "https://localhost:8080/"
        },
        "id": "BVAQmaWVQfYw",
        "outputId": "9f07b9b5-7273-4c23-9940-1ccdc15a3108"
      },
      "execution_count": 2,
      "outputs": [
        {
          "output_type": "stream",
          "name": "stdout",
          "text": [
            "Mounted at /content/drive\n"
          ]
        }
      ]
    },
    {
      "cell_type": "markdown",
      "source": [
        "# step2 最尤推定"
      ],
      "metadata": {
        "id": "yKCfcg7pOuoD"
      }
    },
    {
      "cell_type": "markdown",
      "source": [
        "## 2.1 生成モデルの概要"
      ],
      "metadata": {
        "id": "LVbkV9tYO1yf"
      }
    },
    {
      "cell_type": "markdown",
      "source": [
        "### 2.1.1 生成モデルとは\n",
        "生成モデルの目標は、あるデータxの確率分布p(x)をモデル化すること。"
      ],
      "metadata": {
        "id": "EnBnYvSNO48y"
      }
    },
    {
      "cell_type": "markdown",
      "source": [
        "### 2.1.2 母集団とサンプル\n",
        "母集団は、対象となる全体の集合を表すが、通常サイズが膨大なため「推定」を行う。真の確率分布を推定するため通常以下の2つの作業を行う。  \n",
        "1. モデル化 : 真の確率分布が「パラメータで調整可能な確率分布」で近似されると仮定する。  \n",
        "2. パラメータ推定 : その確率分布がサンプルデータに合うようにパラメータを推定する。  "
      ],
      "metadata": {
        "id": "SvMue6-sPCoX"
      }
    },
    {
      "cell_type": "markdown",
      "source": [
        "## 2.2 実データを使った生成モデルの実装"
      ],
      "metadata": {
        "id": "UKki_vsMPoXo"
      }
    },
    {
      "cell_type": "markdown",
      "source": [
        "### 2.2.1 身長データセットの読み込み"
      ],
      "metadata": {
        "id": "6_dczcQZSkKp"
      }
    },
    {
      "cell_type": "code",
      "execution_count": 3,
      "metadata": {
        "colab": {
          "base_uri": "https://localhost:8080/",
          "height": 482
        },
        "id": "0v56SFGJOq8e",
        "outputId": "201a766d-2c51-427b-85a9-f3afd8b88cc9"
      },
      "outputs": [
        {
          "output_type": "stream",
          "name": "stdout",
          "text": [
            "(25000,)\n"
          ]
        },
        {
          "output_type": "display_data",
          "data": {
            "text/plain": [
              "<Figure size 800x500 with 1 Axes>"
            ],
            "image/png": "[encoded data removed]"
          },
          "metadata": {}
        }
      ],
      "source": [
        "path = \"/content/drive/MyDrive/datasets/SOCRdata/height.txt\"\n",
        "xs = np.loadtxt(path)\n",
        "print(xs.shape)\n",
        "\n",
        "fig, ax = plt.subplots(figsize = (8, 5))\n",
        "ax.hist(xs, bins = \"auto\", density = True)\n",
        "ax.set_xlabel(\"Height (cm)\")\n",
        "fig.show()"
      ]
    },
    {
      "cell_type": "markdown",
      "source": [
        "身長の分布を正規分布としてモデル化できそう。"
      ],
      "metadata": {
        "id": "w_nA9mSNScVO"
      }
    },
    {
      "cell_type": "markdown",
      "source": [
        "### 2.2.2 正規分布による生成モデル\n",
        "正規分布による生成モデルの実装。1:モデル化、2:パラメータ推定、の作業を行う。  \n",
        "パラメータを推定する方法の１つに**最尤推定**がある。結論として、正規分布のパラメータは「サンプル平均」「サンプル標準偏差」となる。"
      ],
      "metadata": {
        "id": "xWNM4USQSfPo"
      }
    },
    {
      "cell_type": "code",
      "source": [
        "mu = np.mean(xs)\n",
        "sigma = np.std(xs)\n",
        "print(mu, sigma)"
      ],
      "metadata": {
        "colab": {
          "base_uri": "https://localhost:8080/"
        },
        "id": "i9w3EXfiShf1",
        "outputId": "ae67f130-63de-462b-991d-5267acd76244"
      },
      "execution_count": 4,
      "outputs": [
        {
          "output_type": "stream",
          "name": "stdout",
          "text": [
            "172.70250853667997 4.830167473396299\n"
          ]
        }
      ]
    },
    {
      "cell_type": "code",
      "source": [
        "def normal(x, mu = 0, sigma = 1):\n",
        "    y = 1 / (np.sqrt(2 * np.pi) * sigma) * np.exp(-(x - mu)**2 / (2 * sigma **2))\n",
        "    return y"
      ],
      "metadata": {
        "id": "CaT9vlcf8kLV"
      },
      "execution_count": 5,
      "outputs": []
    },
    {
      "cell_type": "code",
      "source": [
        "x = np.linspace(150, 190, 1000)\n",
        "y = normal(x, mu, sigma)\n",
        "\n",
        "fig, ax = plt.subplots(figsize = (8, 5))\n",
        "ax.hist(xs, bins = \"auto\", density = True)\n",
        "ax.plot(x, y)\n",
        "ax.set_xlabel(\"Height (cm)\")\n",
        "fig.show()"
      ],
      "metadata": {
        "colab": {
          "base_uri": "https://localhost:8080/",
          "height": 465
        },
        "id": "fyl_2uNw82ky",
        "outputId": "bf44c850-50d0-4b20-9c1e-10f79a2c9ef0"
      },
      "execution_count": 6,
      "outputs": [
        {
          "output_type": "display_data",
          "data": {
            "text/plain": [
              "<Figure size 800x500 with 1 Axes>"
            ],
            "image/png": "[encoded data removed]"
          },
          "metadata": {}
        }
      ]
    },
    {
      "cell_type": "markdown",
      "source": [
        "## 2.3 最尤推定の理論\n",
        "**最尤推定(Maximum Likelihood Estimation)**を用いた正規分布のパラメータ推定の導出を行う。"
      ],
      "metadata": {
        "id": "D-FGlB5J_m8P"
      }
    },
    {
      "cell_type": "markdown",
      "source": [
        "### 2.3.1 尤度の最大化\n",
        "パラメータθによって決まる確率分布を考える。パラメータθの時、データxが得られる確率密度はp(x;θ)で表される。  \n",
        "次に、サンプルD = {$x^{(1)}, x^{(2)}, \\ldots, x^{(N)}$}が得られたとする。各データが独立に生成されたと仮定した時、サンプルDが得られる確率密度は次の式で表される。  \n",
        "\\begin{align}\n",
        "p(D;θ) &= p(x^{(1)};θ) p(x^{(2)};θ) \\dots p(x^{(N)};θ)\\\\\n",
        "        &= \\prod_{n = 1}^N p(x^{(n)};θ)\n",
        "\\end{align}\n",
        "このp(D;θ)は、θを引数とする関数とみなして以下のように定義することもできる。  \n",
        "\\begin{equation}\n",
        "L(θ) = p(D;θ)\n",
        "\\end{equation}\n",
        "このL(θ)を**尤度**、**尤度関数**と呼び、あるパラメータθに対してサンプルDがどのくらい起こり得るかを確率密度として表す。  \n",
        "最尤推定では、尤度p(D;θ)を最大化するθを見つける手法である。計算の都合上、実際には対数尤度logp(D;θ)の最大化を行う。"
      ],
      "metadata": {
        "id": "sMdBx2BGe5F9"
      }
    },
    {
      "cell_type": "markdown",
      "source": [
        "### 2.3.2 微分を使って最大値を探す\n",
        "略"
      ],
      "metadata": {
        "id": "ljuPME5rhpFg"
      }
    },
    {
      "cell_type": "markdown",
      "source": [
        "### 2.3.3 正規分布の最尤推定\n",
        "正規分布の確率密度は以下の通り  \n",
        "\\begin{equation}\n",
        "\\mathcal{N}(x;\\mu, \\sigma) = \\frac{1}{\\sqrt{2\\pi}\\sigma} exp \\left(-\\frac{(x - \\mu)^2}{2\\sigma^2} \\right)\n",
        "\\end{equation}\n",
        "N個の観測データが得られた時の尤度は、  \n",
        "\\begin{equation}\n",
        "p(D;\\mu,\\sigma) = \\prod_{n = 1}^N \\frac{1}{\\sqrt{2\\pi}\\sigma} exp \\left(-\\frac{(x^{(n)} - \\mu)^2}{2\\sigma^2} \\right)\n",
        "\\end{equation}\n",
        "よって対数尤度は、  \n",
        "\\begin{align}\n",
        "log p(D;\\mu,\\sigma) &= log \\prod_{n = 1}^N \\frac{1}{\\sqrt{2\\pi}\\sigma} exp \\left(-\\frac{(x^{(n)} - \\mu)^2}{2\\sigma^2} \\right)\\\\\n",
        "                    &= log \\prod_{n = 1}^N \\frac{1}{\\sqrt{2\\pi}\\sigma} + log \\prod_{n = 1}^N exp \\left(-\\frac{(x^{(n)} - \\mu)^2}{2\\sigma^2} \\right)\\\\\n",
        "                    &= log \\left (\\frac{1}{\\sqrt{2\\pi}\\sigma} \\right)^N + \\sum_{n = 1}^N \\left(\\frac{-(x^{(n)} - \\mu)^2}{2\\sigma^2} \\right)\\\\\n",
        "                    &= -N log(\\sqrt{2\\pi}\\sigma) - \\frac{1}{2\\sigma^2} \\sum_{n = 1}^N ((x^{(n)} - \\mu)^2)\\\\\n",
        "                    &= -\\frac{N}{2} log(2\\pi\\sigma^2) - \\frac{1}{2\\sigma^2} \\sum_{n = 1}^N ((x^{(n)} - \\mu)^2)\n",
        " \\end{align}\n",
        " $\\mu$に着目すると、対数尤度は$\\mu$に関する二次関数となっておりその係数は負であるため、微分が0となる場所に最大値が存在する。$\\mu$を含まない項は定数項として扱うことに注意して、  \n",
        " \\begin{align}\n",
        " \\frac{\\partial L}{\\partial \\mu} &= \\frac{\\partial}{\\partial \\mu} \\left(- \\frac{1}{2\\sigma^2} \\sum_{n = 1}^N ((x^{(n)} - \\mu)^2) \\right) \\\\\n",
        "    &= - \\frac{1}{2\\sigma^2} \\sum_{n = 1}^N (2(x^{(n)} - \\mu) (-1))\\\\\n",
        "    &= \\frac{1}{\\sigma^2} \\sum_{n = 1}^N ((x^{(n)} - \\mu))\n",
        " \\end{align}\n",
        " これが0なので、  \n",
        " \\begin{align}\n",
        " \\frac{1}{\\sigma^2} \\sum_{n = 1}^N ((x^{(n)} - \\mu)) &= 0\\\\\n",
        " \\iff \\sum_{n = 1}^N ((x^{(n)} - \\mu)) &= 0\\\\\n",
        " \\iff \\sum_{n = 1}^N \\mu &= \\sum_{n = 1}^N (x^{(n)}) \\\\\n",
        " \\iff N\\mu &= \\sum_{n = 1}^N (x^{(n)})\\\\\n",
        " \\iff \\mu &= \\frac{1}{N}\\sum_{n = 1}^N x^{(n)}\n",
        " \\end{align}\n",
        "したがって、  \n",
        "\\begin{equation}\n",
        "\\hat{\\mu} = \\frac{1}{N}\\sum_{n = 1}^N x^{(n)}\n",
        "\\end{equation}\n",
        "で対数尤度が最大になる。  \n",
        "次に標準偏差について、$\\mu = \\hat{\\mu}$のもとで対数尤度が最大となる$\\sigma$を解析的に求める。  \n",
        "\\begin{align}\n",
        " \\frac{\\partial L}{\\partial \\sigma} &= \\frac{\\partial}{\\partial \\sigma} \\left(-\\frac{N}{2} log(2\\pi\\sigma^2) - \\frac{1}{2\\sigma^2} \\sum_{n = 1}^N (x^{(n)} - \\hat{\\mu})^2 \\right) \\\\\n",
        "    &= -\\frac{N}{2} \\frac{1}{2\\pi\\sigma^2} 4\\pi\\sigma + \\frac{2}{2\\sigma^3} \\sum_{n = 1}^N (x^{(n)} - \\hat{\\mu})^2\\\\\n",
        "    &= -\\frac{N}{\\sigma} + \\frac{1}{\\sigma^3}\\sum_{n = 1}^N (x^{(n)} - \\hat{\\mu})^2\n",
        " \\end{align}\n",
        " これが0なので、\n",
        " \\begin{align}\n",
        " -\\frac{N}{\\sigma} + \\frac{1}{\\sigma^3}\\sum_{n = 1}^N (x^{(n)} - \\hat{\\mu})^2 &= 0\\\\\n",
        " \\frac{1}{\\sigma^3}\\sum_{n = 1}^N (x^{(n)} - \\hat{\\mu})^2 &= \\frac{N}{\\sigma}\\\\\n",
        "N\\sigma^2 &= \\sum_{n = 1}^N (x^{(n)} - \\hat{\\mu})^2\\\\\n",
        "\\sigma &= \\sqrt{\\frac{1}{N} \\sum_{n = 1}^N (x^{(n)} - \\hat{\\mu})^2}\n",
        " \\end{align}\n",
        " したがって、\n",
        " \\begin{equation}\n",
        "\\hat{\\sigma} = \\sqrt{\\frac{1}{N} \\sum_{n = 1}^N (x^{(n)} - \\hat{\\mu})^2}\n",
        " \\end{equation}"
      ],
      "metadata": {
        "id": "P9RleL_Wh3N4"
      }
    },
    {
      "cell_type": "markdown",
      "source": [
        "## 2.4 生成モデルの用途"
      ],
      "metadata": {
        "id": "Ki0hNB708piu"
      }
    },
    {
      "cell_type": "markdown",
      "source": [
        "### 2.4.1 新しいデータの生成\n",
        "生成モデルを使えば、新しいデータを生成することができる。"
      ],
      "metadata": {
        "id": "q96qzWwH8-91"
      }
    },
    {
      "cell_type": "code",
      "source": [
        "print(mu, sigma)"
      ],
      "metadata": {
        "colab": {
          "base_uri": "https://localhost:8080/"
        },
        "id": "lj_kvdw79Vs0",
        "outputId": "4ab49ac0-02d3-4cd5-afa7-d58c2414eaab"
      },
      "execution_count": 6,
      "outputs": [
        {
          "output_type": "stream",
          "name": "stdout",
          "text": [
            "172.70250853667997 4.830167473396299\n"
          ]
        }
      ]
    },
    {
      "cell_type": "code",
      "source": [
        "sample = np.random.normal(mu, sigma)\n",
        "print(sample) # create new data"
      ],
      "metadata": {
        "colab": {
          "base_uri": "https://localhost:8080/"
        },
        "id": "XMq7MqGE9ZUM",
        "outputId": "d951bec4-c15a-4bee-9ce5-5b193b47e267"
      },
      "execution_count": 7,
      "outputs": [
        {
          "output_type": "stream",
          "name": "stdout",
          "text": [
            "174.1749669573597\n"
          ]
        }
      ]
    },
    {
      "cell_type": "code",
      "source": [
        "# 新たに10000個のサンプリングを行う\n",
        "samples = np.random.normal(mu, sigma, 10000)\n",
        "\n",
        "fig, ax = plt.subplots(figsize = (8, 4))\n",
        "ax.hist(xs, bins = \"auto\", density = True, alpha = 0.7)\n",
        "ax.hist(samples, bins = \"auto\", density = True, alpha = 0.7)\n",
        "ax.legend([\"original\", \"generated\"])\n",
        "fig.show()"
      ],
      "metadata": {
        "colab": {
          "base_uri": "https://localhost:8080/",
          "height": 368
        },
        "id": "lUNdAQrI9niY",
        "outputId": "d4c819cb-23db-49cf-eaba-dbe8d48658ee"
      },
      "execution_count": 8,
      "outputs": [
        {
          "output_type": "display_data",
          "data": {
            "text/plain": [
              "<Figure size 800x400 with 1 Axes>"
            ],
            "image/png": "[encoded data removed]"
          },
          "metadata": {}
        }
      ]
    },
    {
      "cell_type": "markdown",
      "source": [
        "観測データの特徴を捉えた新しいデータを生成したと言える。ここでは1次元の単純なデータだったが、モデルを工夫することで画像生成モデルへと拡張することができる。"
      ],
      "metadata": {
        "id": "TrWIsas--D9m"
      }
    },
    {
      "cell_type": "markdown",
      "source": [
        "### 2.4.2 確率の計算\n",
        "連続型の確率分布で確立を求めるためには、確率密度p(x)の積分計算が必要になる。正規分布の場合は解析的に求められるが、それが難しい分布ではモンテカルロ法を使って近似的に求める。"
      ],
      "metadata": {
        "id": "Hb7psR7o-UNf"
      }
    },
    {
      "cell_type": "code",
      "source": [
        "# 正規分布の累積分布関数\n",
        "x = 1.0\n",
        "print(norm.cdf(x, loc = 0, scale = 1)) # mu = 0, sigma = 1の正規分布で、値がx以下となる確率"
      ],
      "metadata": {
        "colab": {
          "base_uri": "https://localhost:8080/"
        },
        "id": "R349RAtG-uZV",
        "outputId": "f24d7a2b-58be-408f-f9ab-63f1e79af904"
      },
      "execution_count": 10,
      "outputs": [
        {
          "output_type": "stream",
          "name": "stdout",
          "text": [
            "0.8413447460685429\n"
          ]
        }
      ]
    },
    {
      "cell_type": "markdown",
      "source": [
        "これは、x <= 1の区間の面積を表している。"
      ],
      "metadata": {
        "id": "gS0TCDWy_Hmd"
      }
    }
  ]
}