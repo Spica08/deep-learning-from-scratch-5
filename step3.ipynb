{
  "nbformat": 4,
  "nbformat_minor": 0,
  "metadata": {
    "colab": {
      "provenance": [],
      "toc_visible": true,
      "authorship_tag": "ABX9TyPyZgsVxXniKf7aY7MywbKb",
      "include_colab_link": true
    },
    "kernelspec": {
      "name": "python3",
      "display_name": "Python 3"
    },
    "language_info": {
      "name": "python"
    }
  },
  "cells": [
    {
      "cell_type": "markdown",
      "metadata": {
        "id": "view-in-github",
        "colab_type": "text"
      },
      "source": [
        "<a href=\"https://colab.research.google.com/github/Spica08/deep-learning-from-scratch-5/blob/main/step3.ipynb\" target=\"_parent\"><img src=\"https://colab.research.google.com/assets/colab-badge.svg\" alt=\"Open In Colab\"/></a>"
      ]
    },
    {
      "cell_type": "code",
      "source": [
        "# set up\n",
        "import os\n",
        "import numpy as np\n",
        "from scipy.stats import norm\n",
        "import matplotlib.pyplot as plt"
      ],
      "metadata": {
        "id": "lu-k1vyG_usx"
      },
      "execution_count": 1,
      "outputs": []
    },
    {
      "cell_type": "markdown",
      "source": [
        "# step3 多次元正規分布"
      ],
      "metadata": {
        "id": "dHMfIXH-_nX4"
      }
    },
    {
      "cell_type": "markdown",
      "source": [
        "## 3.1 Numpyと多次元配列"
      ],
      "metadata": {
        "id": "yhU9KmiS_06z"
      }
    },
    {
      "cell_type": "markdown",
      "source": [
        "### 3.1.1 多次元配列\n",
        "略"
      ],
      "metadata": {
        "id": "W_Hq0c1i_4Nc"
      }
    },
    {
      "cell_type": "markdown",
      "source": [
        "### 3.1.2 Numpyの多次元配列\n",
        "略"
      ],
      "metadata": {
        "id": "-w8z3NZ5_9Xg"
      }
    },
    {
      "cell_type": "markdown",
      "source": [
        "### 3.1.3 要素ごとの演算\n",
        "要素ごとの積 -> アダマール積($\\bigodot$)"
      ],
      "metadata": {
        "id": "mXeAVrnAAC9F"
      }
    },
    {
      "cell_type": "markdown",
      "source": [
        "### 3.1.4 ベクトルの内積と行列積\n",
        "略"
      ],
      "metadata": {
        "id": "LtwNt0nxAS9j"
      }
    },
    {
      "cell_type": "markdown",
      "source": [
        "## 3.2 多次元正規分布\n",
        "step2で扱った正規分布は1つの実数値の分布を対象としていた。次に、複数の実数値であるベクトルに関する正規分布を考える。例えば、身長と体重を以下のようにベクトルとして扱う。  \n",
        "$x = \\begin{pmatrix}\n",
        "   身長 \\\\\n",
        "   体重\n",
        "\\end{pmatrix}$\n",
        "これにより、Aさんは(170cm, 50kg)のように、各人の測定データが得られる。"
      ],
      "metadata": {
        "id": "w4YyLdaIAg8H"
      }
    },
    {
      "cell_type": "markdown",
      "source": [
        "### 3.2.1 多次元正規分布の式\n",
        "ここでは、次の確率変数xを対象にする。  \n",
        "$x = \\begin{pmatrix}\n",
        "   x_1 \\\\ x_2 \\\\ \\vdots \\\\ x_D\n",
        "\\end{pmatrix}$  \n",
        "xの各要素は、互いに関連するデータ(x1 = 身長、x2 = 体重、...)とする。このとき、xに関する正規分布は次の式で表される。  \n",
        "\\begin{equation}\n",
        "\\mathcal{N}(x;\\mu, \\sigma) = \\frac{1}{\\sqrt{(2\\pi)^D|\\sum|}} exp{\\left\\lbrace-\\frac{1}{2}(x - \\mu)^T \\sum\\nolimits^{-1}(x - \\mu) \\right\\rbrace}\n",
        "\\end{equation}"
      ],
      "metadata": {
        "id": "B7DMxpG0BhOx"
      }
    },
    {
      "cell_type": "code",
      "execution_count": null,
      "metadata": {
        "id": "3QEoUkAl_kwn"
      },
      "outputs": [],
      "source": []
    }
  ]
}